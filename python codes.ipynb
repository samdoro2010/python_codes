{
 "cells": [
  {
   "cell_type": "code",
   "execution_count": 1,
   "id": "0307eef9",
   "metadata": {},
   "outputs": [
    {
     "name": "stdout",
     "output_type": "stream",
     "text": [
      "Hello world\n"
     ]
    }
   ],
   "source": [
    "print(\"Hello world\")"
   ]
  },
  {
   "cell_type": "markdown",
   "id": "bef0cf2f",
   "metadata": {},
   "source": [
    "# heading1\n",
    "## heading2\n",
    "### heading3\n",
    "-this is sentence\n",
    " this is bold type\n",
    " this is italic\n",
    " \n",
    "**this is bold and italic**"
   ]
  },
  {
   "cell_type": "markdown",
   "id": "8fee7919",
   "metadata": {},
   "source": [
    "# data types in pyt\n",
    "- numeric type - int ,float complex\n",
    "- text type- string \n",
    "- seq type -list , tuple ,range\n",
    "- maping type -dictionary\n",
    "- set type - frozen set\n",
    "- boolean type -bool\n",
    "- type casting -changing data type (inbuild type)"
   ]
  },
  {
   "cell_type": "markdown",
   "id": "5e79bf09",
   "metadata": {},
   "source": [
    "### Operators in python\n",
    "#### arthematic operators\n",
    "- +, - ,, /, %, *,//\n",
    "#### assignment operators \n",
    "- +=, -=, =, /=, *=, %=, //=\n",
    "#### comparision operators \n",
    "- >,<, >=, <=, ==, !=\n",
    "#### logical  operators\n",
    "- and , or ,not\n",
    "#### identity operators\n",
    "- is , is not\n",
    "#### membership operators \n",
    "- in , not in\n",
    "#### bitwise operators\n",
    "- & ,|, ^, ~, >>, <<"
   ]
  },
  {
   "cell_type": "code",
   "execution_count": 2,
   "id": "a3fdbf23",
   "metadata": {},
   "outputs": [
    {
     "name": "stdout",
     "output_type": "stream",
     "text": [
      "<class 'str'>\n",
      "<class 'float'>\n",
      "<class 'complex'>\n",
      "<class 'int'>\n"
     ]
    }
   ],
   "source": [
    "a=\"20\"\n",
    "a1=34.0\n",
    "a2=5j\n",
    "a3=50\n",
    "print(type(a))\n",
    "print(type(a1))\n",
    "print(type(a2))\n",
    "print(type(a3))"
   ]
  },
  {
   "cell_type": "code",
   "execution_count": 3,
   "id": "011bac09",
   "metadata": {},
   "outputs": [
    {
     "name": "stdout",
     "output_type": "stream",
     "text": [
      "20\n",
      "<class 'int'>\n"
     ]
    }
   ],
   "source": [
    "b=int(a)\n",
    "print(b)\n",
    "print(type(b))"
   ]
  },
  {
   "cell_type": "code",
   "execution_count": null,
   "id": "e1d1eb1f",
   "metadata": {},
   "outputs": [],
   "source": [
    "n=int(input())\n",
    "n2=input()\n",
    "print(n)\n",
    "print(type(n))\n",
    "print(n2)\n",
    "print(type(n2))"
   ]
  },
  {
   "cell_type": "code",
   "execution_count": null,
   "id": "730eb1a6",
   "metadata": {},
   "outputs": [],
   "source": [
    "b2=str(a2)\n",
    "print(b2)\n",
    "print(type(b2))"
   ]
  },
  {
   "cell_type": "code",
   "execution_count": null,
   "id": "6b3e408c",
   "metadata": {},
   "outputs": [],
   "source": [
    "#\n",
    "x=100\n",
    "y=2\n",
    "print(x+y)\n",
    "print(x-y)\n",
    "print(x*y)\n",
    "print(x/y)\n",
    "print(x%y) \n",
    "print(x//y) # floor division\n",
    "print(x**y) # exponent"
   ]
  },
  {
   "cell_type": "code",
   "execution_count": null,
   "id": "925703f0",
   "metadata": {},
   "outputs": [],
   "source": [
    "a1= 500\n",
    "a2= 3\n",
    "a1+=a2\n",
    "print(a1)\n",
    "a1-=a2\n",
    "print(a1)\n",
    "a1*=a2\n",
    "print(a1)\n",
    "a1**=a2\n",
    "print(a1)\n",
    "a1%=a2\n",
    "print(a1)\n",
    "a1//=a2\n",
    "print(a1)\n",
    "a1/=a2\n",
    "print(a1,end=\" this is \")\n",
    "a1=a2"
   ]
  },
  {
   "cell_type": "code",
   "execution_count": null,
   "id": "eeabc2ce",
   "metadata": {},
   "outputs": [],
   "source": [
    "x=\"hai\"\n",
    "y=\"hello\"\n",
    "z=\"hai\"\n",
    "x1=45\n",
    "x2=67\n",
    "print(x==y)\n",
    "print(x==z)\n",
    "print(x!=y)\n",
    "print(y!=z)\n",
    "print(x1>x2)\n",
    "print(x1<x2)\n",
    "print(x1<=x2)\n",
    "print(x1>=x2)"
   ]
  },
  {
   "cell_type": "code",
   "execution_count": null,
   "id": "e56253e4",
   "metadata": {},
   "outputs": [],
   "source": [
    "n1= 100\n",
    "n2= 300\n",
    "n3= 500\n",
    "print(n1<n2 and n2<n3) #true and true \n",
    "print(n1>n2 and n2<n3) #false and true \n",
    "print(n1>n2 and n2>n3) #false and false\n",
    "print(n1<n2 and n2>n3) #true and false"
   ]
  },
  {
   "cell_type": "code",
   "execution_count": null,
   "id": "e7ecbd10",
   "metadata": {},
   "outputs": [],
   "source": [
    "n1= 100\n",
    "n2= 300\n",
    "n3= 500\n",
    "print(n1<n2 or n2<n3) #true and true \n",
    "print(n1>n2 or n2<n3) #false and true \n",
    "print(n1>n2 or n2>n3) #false and false\n",
    "print(n1<n2 or n2>n3) #true and false"
   ]
  },
  {
   "cell_type": "code",
   "execution_count": null,
   "id": "e3e3c7d5",
   "metadata": {},
   "outputs": [],
   "source": [
    "not True\n",
    "print(not x1>100) #45>100 is false"
   ]
  },
  {
   "cell_type": "code",
   "execution_count": null,
   "id": "a14f66e4",
   "metadata": {},
   "outputs": [],
   "source": [
    "x is z"
   ]
  },
  {
   "cell_type": "code",
   "execution_count": null,
   "id": "4fc46859",
   "metadata": {},
   "outputs": [],
   "source": [
    "x is not z "
   ]
  },
  {
   "cell_type": "code",
   "execution_count": null,
   "id": "3075a546",
   "metadata": {},
   "outputs": [],
   "source": [
    "python_lab= \"chay\"\n",
    "\"chay\" in python_lab"
   ]
  },
  {
   "cell_type": "code",
   "execution_count": null,
   "id": "07af5c96",
   "metadata": {},
   "outputs": [],
   "source": [
    "python_lab= \"chay\"\n",
    "\"chay\" not in python_lab"
   ]
  },
  {
   "cell_type": "code",
   "execution_count": null,
   "id": "f883d8e6",
   "metadata": {},
   "outputs": [],
   "source": [
    "a1= 1\n",
    "a2= 2\n",
    "#4&8  0100  &  1000 0000\n",
    "print(a1&a2)\n"
   ]
  },
  {
   "cell_type": "markdown",
   "id": "4c1874d3",
   "metadata": {},
   "source": [
    "## Date 19.08.22"
   ]
  },
  {
   "cell_type": "markdown",
   "id": "ba398722",
   "metadata": {},
   "source": [
    "- ### IF Statements\n"
   ]
  },
  {
   "cell_type": "code",
   "execution_count": null,
   "id": "34f0637d",
   "metadata": {},
   "outputs": [],
   "source": []
  },
  {
   "cell_type": "code",
   "execution_count": null,
   "id": "9a85edbb",
   "metadata": {},
   "outputs": [],
   "source": [
    "# find the given number is even or not\n",
    "n=int(input())\n",
    "if n%2 ==0:\n",
    "    print(n,\"is even\")"
   ]
  },
  {
   "cell_type": "code",
   "execution_count": null,
   "id": "c0fefb6d",
   "metadata": {},
   "outputs": [],
   "source": [
    "n = int(input())\n",
    "if n%2!=0:\n",
    "    print(n,\"is odd\")\n",
    "else:\n",
    "    print(n,\"is even\")"
   ]
  },
  {
   "cell_type": "code",
   "execution_count": null,
   "id": "c729400d",
   "metadata": {},
   "outputs": [],
   "source": [
    "x,y,z=10,9,11\n",
    "if x<=y and x<=z:\n",
    "    print(x,\"is smaller\")\n",
    "elif y<=x and y<=z:\n",
    "    print(y,\"is smaller\")\n",
    "else:\n",
    "    print(z,\"is smaller\")"
   ]
  },
  {
   "cell_type": "code",
   "execution_count": null,
   "id": "09a122c7",
   "metadata": {},
   "outputs": [],
   "source": [
    "n1=input()\n",
    "if 'N' in n1:\n",
    "    if n1 == \"NSK\":\n",
    "         print(\"yes it's my name\")\n",
    "    else:\n",
    "        print(\"No its not my name\")\n",
    "else:\n",
    "    print(\"Close Program\")"
   ]
  },
  {
   "cell_type": "markdown",
   "id": "7c8d5507",
   "metadata": {},
   "source": [
    " - ### **Iterators**\n",
    "  - for loop\n",
    "  - while loop\n",
    "    "
   ]
  },
  {
   "cell_type": "markdown",
   "id": "62572289",
   "metadata": {},
   "source": [
    "Syntax:\n",
    "\n",
    "for var in range(inclusive range,exclusive range):\n",
    "for var in Datastructure:\n",
    "    statements"
   ]
  },
  {
   "cell_type": "code",
   "execution_count": 18,
   "id": "5a78af2b",
   "metadata": {},
   "outputs": [
    {
     "name": "stdout",
     "output_type": "stream",
     "text": [
      "0 1 2 3 4 5 6 7 8 9 10 11 12 13 14 15 16 17 18 19 "
     ]
    }
   ],
   "source": [
    "for i in range(20):\n",
    "    print(i,end=\" \")"
   ]
  },
  {
   "cell_type": "code",
   "execution_count": 17,
   "id": "c65c4a1d",
   "metadata": {},
   "outputs": [
    {
     "name": "stdout",
     "output_type": "stream",
     "text": [
      "2\n",
      "4\n",
      "6\n",
      "8\n",
      "10\n",
      "12\n",
      "14\n",
      "16\n",
      "18\n",
      "20\n"
     ]
    }
   ],
   "source": [
    "for i in range(1,21):\n",
    "    if i%2==0:\n",
    "        print(i)"
   ]
  },
  {
   "cell_type": "code",
   "execution_count": null,
   "id": "dc45cb66",
   "metadata": {},
   "outputs": [],
   "source": [
    "for i in range(0,21,3):\n",
    "    print(i,end=\" \")"
   ]
  },
  {
   "cell_type": "code",
   "execution_count": null,
   "id": "548119ab",
   "metadata": {},
   "outputs": [],
   "source": [
    "for i in range(20,0,-1): #exclusive range, inclusive range, increment for reverse order\n",
    "    print(i,end=\" \")"
   ]
  },
  {
   "cell_type": "code",
   "execution_count": null,
   "id": "4df71076",
   "metadata": {},
   "outputs": [],
   "source": [
    "#sum of natural numbers 1 to n\n",
    "n = int(input())\n",
    "s=0\n",
    "for i in range(1,n+1):\n",
    "    s+=i\n",
    "print(s)"
   ]
  },
  {
   "cell_type": "code",
   "execution_count": null,
   "id": "a00d7ffe",
   "metadata": {},
   "outputs": [],
   "source": [
    "for i in \"i am happy\":\n",
    "    if i==\"p\":\n",
    "        print(i)"
   ]
  },
  {
   "cell_type": "markdown",
   "id": "9d54ce4b",
   "metadata": {},
   "source": [
    "- While\n",
    "Syntax:\n",
    "\n",
    "while condition:\n",
    " {\n",
    "   statement 1\n",
    "   statement 2\n",
    " }\n",
    " can create infinite loop "
   ]
  },
  {
   "cell_type": "code",
   "execution_count": null,
   "id": "f0fe0a30",
   "metadata": {},
   "outputs": [],
   "source": [
    "n=1\n",
    "while n<=10:\n",
    "    print(n,end=\" \")\n",
    "    n+=1"
   ]
  },
  {
   "cell_type": "code",
   "execution_count": 1,
   "id": "e2d21ba6",
   "metadata": {},
   "outputs": [
    {
     "name": "stdout",
     "output_type": "stream",
     "text": [
      "10 9 8 7 6 5 4 3 2 1 "
     ]
    }
   ],
   "source": [
    "n=10\n",
    "while n>=1:\n",
    "    print(n,end=\" \")\n",
    "    n-=1"
   ]
  },
  {
   "cell_type": "code",
   "execution_count": null,
   "id": "0f340583",
   "metadata": {},
   "outputs": [],
   "source": [
    "# break in while loop\n",
    "n=1\n",
    "while n<=10:\n",
    "    if n==6:\n",
    "        break\n",
    "    print(n,end=\" \")\n",
    "    n+=1\n",
    "#break is used to come out of the control"
   ]
  },
  {
   "cell_type": "code",
   "execution_count": 8,
   "id": "7d62ca9b",
   "metadata": {},
   "outputs": [
    {
     "name": "stdout",
     "output_type": "stream",
     "text": [
      "1 2 3 4 5 7 8 9 10 11 "
     ]
    }
   ],
   "source": [
    "#continue - to skip a particular iteration\n",
    "n=0\n",
    "while n<=10:\n",
    "    n+=1\n",
    "    if n==6:\n",
    "        continue\n",
    "    print(n,end=\" \")\n",
    "       "
   ]
  },
  {
   "cell_type": "code",
   "execution_count": null,
   "id": "95faedf6",
   "metadata": {},
   "outputs": [],
   "source": [
    "for i in range(1,20):\n",
    "    if i>5:\n",
    "        pass\n",
    "    print(i,end=\" \")\n",
    "    \n",
    "#pass used instead of statement then no errors.pass is a null statement, won't return anything.\n",
    "#To define empty class or empty function we use pass keyword"
   ]
  },
  {
   "cell_type": "code",
   "execution_count": null,
   "id": "4c83b687",
   "metadata": {},
   "outputs": [],
   "source": [
    "# Q.NO 1:\n",
    "# Problem Statment : Write a Python program to find the distance between teo points (x1,y1) and (x2,y2).\n",
    "x1=int(input (\"enter x1 value : \"))\n",
    "x2=int(input (\"enter x2 value : \"))\n",
    "y1=int(input (\"enter y1 value : \"))\n",
    "y2=int(input (\"enter y2 value : \"))\n",
    "result=((((x2 - x1 )**2) + ((y2-y1)**2))**0.5)\n",
    "print(result)"
   ]
  },
  {
   "cell_type": "code",
   "execution_count": 3,
   "id": "8cca5f5d",
   "metadata": {},
   "outputs": [
    {
     "name": "stdout",
     "output_type": "stream",
     "text": [
      "Enter marks secured in Math: 34\n",
      "Enter marks secured in Science: 34\n",
      "Enter marks secured in Social: 23\n",
      "Enter marks secured in Hindi: 76\n",
      "Percentage =  41.75\n",
      "Grade E\n"
     ]
    }
   ],
   "source": [
    "# Q.NO 2:\n",
    "# Write a Python program to input Percentage. Calculate percentage and grade according to following:\n",
    "# Percentage >= 90% : Grade A\n",
    "# Percentage >= 80% : Grade B\n",
    "# Percentage >= 70% : Grade C\n",
    "# Percentage >= 60% : Grade D\n",
    "# Percentage >= 40% : Grade E\n",
    "# Percentage < 40% : Grade F\n",
    "math= eval(input(\"Enter marks secured in Math: \"))\n",
    "science= eval(input(\"Enter marks secured in Science: \"))\n",
    "social= eval(input(\"Enter marks secured in Social: \"))\n",
    "hindi= eval(input(\"Enter marks secured in Hindi: \"))\n",
    "per = (((math+science+social+hindi)/400)*100)\n",
    "print(\"Percentage = \",per)\n",
    "if per>=90:\n",
    "    print(\"Grade A\")\n",
    "elif per>=80:\n",
    "    print (\"Grade B\")\n",
    "elif per>=70:\n",
    "    print (\"Grade C\")\n",
    "elif per>=60:\n",
    "    print (\"Grade D\")\n",
    "elif per>=40:\n",
    "    print (\"Grade E\")\n",
    "else:\n",
    "    print (\"Grade F\")\n",
    "\n",
    "    \n"
   ]
  },
  {
   "cell_type": "code",
   "execution_count": 7,
   "id": "c835fc63",
   "metadata": {},
   "outputs": [
    {
     "name": "stdout",
     "output_type": "stream",
     "text": [
      "Enter value of a :45\n",
      "Enter value of b :34\n",
      "Enter value of c :23\n",
      "A is maximum  45\n"
     ]
    }
   ],
   "source": [
    "# Q.NO 3:\n",
    "# Problem Statement: Write a Python program to find maximum between three numbers.\n",
    "a=int(input(\"Enter value of a :\"))\n",
    "b=int(input(\"Enter value of b :\"))\n",
    "c=int(input(\"Enter value of c :\"))\n",
    "if(a>b):\n",
    "    if(a>c):\n",
    "        print(\"A is maximum \",a)\n",
    "elif b>c:\n",
    "    print(\"B is maximum \",b)\n",
    "else:\n",
    "    print(\"C is maximum \",c)\n",
    "\n"
   ]
  },
  {
   "cell_type": "code",
   "execution_count": 1,
   "id": "8b1d58e6",
   "metadata": {},
   "outputs": [
    {
     "name": "stdout",
     "output_type": "stream",
     "text": [
      "Enter value of a :5\n",
      "Enter value of b :3\n",
      "Enter value of c :6\n",
      "Roots are imaginary and unreal\n"
     ]
    }
   ],
   "source": [
    "# Q.NO 4:\n",
    "# Problem Statement: Write a Python program that computes the real roots of a quadratic function. Your program \n",
    "# should begin by prompting the user for the values of a, b and c. Then it should display a message \n",
    "# indicating the nature of real roots, along with the values of the real roots (if any)\n",
    "a=int(input(\"Enter value of a :\"))\n",
    "b=int(input(\"Enter value of b :\"))\n",
    "c=int(input(\"Enter value of c :\"))\n",
    "nature =(b**2)-(4*a*c)\n",
    "r1=(-b+(nature)**0.5)/(2*a)\n",
    "r2=(-b-(nature)**0.5)/(2*a)\n",
    "if(nature>0):\n",
    "    print(\"Roots are unequal and real\")\n",
    "    print(\"Roots = \",(r1,r2))\n",
    "elif nature<0:\n",
    "    print(\"Roots are imaginary and unreal\")\n",
    "else:\n",
    "    print(\"Roots are equal and real\")\n",
    "    r=-b/(2*a)\n",
    "    print(\"There is exactly one root\",r)\n",
    "\n"
   ]
  },
  {
   "cell_type": "code",
   "execution_count": 5,
   "id": "9996d6ca",
   "metadata": {
    "scrolled": true
   },
   "outputs": [
    {
     "ename": "SyntaxError",
     "evalue": "invalid syntax (2073638209.py, line 9)",
     "output_type": "error",
     "traceback": [
      "\u001b[1;36m  Input \u001b[1;32mIn [5]\u001b[1;36m\u001b[0m\n\u001b[1;33m    print(\" The Triangle is VALID, since the sum of the angles is : \",sum_ofangles)\u001b[0m\n\u001b[1;37m    ^\u001b[0m\n\u001b[1;31mSyntaxError\u001b[0m\u001b[1;31m:\u001b[0m invalid syntax\n"
     ]
    }
   ],
   "source": [
    "# Q.NO 5:\n",
    "# Problem Statement: Write a program to input angles of a triangle and check whether triangle is valid or not.\n",
    "# Also,validate the angles entered by the user. (Sum of the three angles of triangle is 180degree)\n",
    "A = int(input(\"Enter the angle 'A' of the triangle: \"))\n",
    "B = int(input(\"Enter the angle 'B' of the triangle: \"))\n",
    "C = int(input(\"Enter the angle 'C' of the triangle: \"))\n",
    "sum_ofangles = A+B+C\n",
    "if((sum_ofangles == 180) and ((A and B and C)!=0) and ((A and B and C)<90):\n",
    "    print(\" The Triangle is VALID, since the sum of the angles is : \",sum_ofangles)\n",
    "    print(\" It is an Acute angled triangle \")\n",
    "elif ((sum_ofangles == 180) and ((A and B and C)!=0) and ((A and B and C)==90)):\n",
    "    print(\" The Triangle is VALID, since the sum of the angles is : \",sum_ofangles)  \n",
    "    print(\" It is a Right angled triangle \")\n",
    "elif((sum_ofangles == 180) and ((A and B and C)!=0) and ((A and B and C)>90)):\n",
    "    print(\" The Triangle is VALID, since the sum of the angles is : \",sum_ofangles)  \n",
    "    print(\" It is an Obtuse angled triangle \")\n",
    "else:\n",
    "    print(\" The Triangle is INVALID, since the sum of the angles is : \",sum_ofangles)\n"
   ]
  },
  {
   "cell_type": "code",
   "execution_count": 10,
   "id": "a551e386",
   "metadata": {},
   "outputs": [
    {
     "name": "stdout",
     "output_type": "stream",
     "text": [
      "Enter the Basic Salary : 5000\n",
      "Gross Salary =  10000.0\n"
     ]
    }
   ],
   "source": [
    "# Q.NO 6:\n",
    "# Problem Statement: Write a program to input basic salary of an employee and calculate its \n",
    "# Gross salary according to following:\n",
    "# Basic Salary <= 10000 : HRA = 20%, DA = 80%\n",
    "# Basic Salary <= 20000 : HRA = 25%, DA = 90%\n",
    "# Basic Salary > 20000 : HRA = 30%, DA = 95%\n",
    "BS = int(input(\"Enter the Basic Salary : \"))\n",
    "if (BS<=10000):\n",
    "    HRA = (BS*20)/100\n",
    "    DA = (BS*80)/100\n",
    "    GS = BS+HRA+DA\n",
    "    print(\"Gross Salary = \",(GS))\n",
    "elif BS<=20000:\n",
    "    HRA = (BS*25)/100\n",
    "    DA = (BS*90)/100\n",
    "    GS = BS+HRA+DA\n",
    "    print(\"Gross Salary = \",(GS))\n",
    "elif BS>20000:\n",
    "    HRA = (BS*30)/100\n",
    "    DA = (BS*95)/100\n",
    "    GS = BS+HRA+DA\n",
    "    print(\"Gross Salary = \",(GS))\n",
    "\n",
    "\n"
   ]
  },
  {
   "cell_type": "code",
   "execution_count": 18,
   "id": "0d9b801f",
   "metadata": {},
   "outputs": [
    {
     "name": "stdout",
     "output_type": "stream",
     "text": [
      "\n",
      "None\n",
      "None\n"
     ]
    }
   ],
   "source": [
    "print(print(print()))"
   ]
  },
  {
   "cell_type": "code",
   "execution_count": 19,
   "id": "0e657d62",
   "metadata": {},
   "outputs": [
    {
     "name": "stdout",
     "output_type": "stream",
     "text": [
      "44\n"
     ]
    }
   ],
   "source": [
    "_=44\n",
    "print(_)\n",
    "#dummy variable only in python"
   ]
  },
  {
   "cell_type": "code",
   "execution_count": 13,
   "id": "b1df653b",
   "metadata": {},
   "outputs": [
    {
     "name": "stdout",
     "output_type": "stream",
     "text": [
      "Enter the n value 2\n",
      "Sum of series =  0.5\n"
     ]
    }
   ],
   "source": [
    "# Q.NO 15\n",
    "# Write a Python program to print the sum of the series 1/2+1/3+1/4+ ... +1/N. Where N is\n",
    "# natural number.\n",
    "\n",
    "n=int(input(\"Enter the n value \"))\n",
    "sum=0\n",
    "for i in range(2,n+1):\n",
    "    sum = sum+(1/i)\n",
    "print(\"Sum of series = \",sum)"
   ]
  },
  {
   "cell_type": "code",
   "execution_count": 14,
   "id": "180a569a",
   "metadata": {},
   "outputs": [
    {
     "name": "stdout",
     "output_type": "stream",
     "text": [
      "Enter the value of n 8\n",
      "Enter the value of n 6\n",
      "Enter the value of n 10\n",
      "Enter the value of n 45\n",
      "Enter the value of n 0\n",
      "Sum =  69\n"
     ]
    }
   ],
   "source": [
    "#Q.NO 16\n",
    "# Write a Python program that prompts user to enter numbers. The process will repeat until user \n",
    "# enters 0. Finally, the program prints sum of the numbers entered by the user\n",
    "n=1\n",
    "sum=0\n",
    "\n",
    "while (n!=0):\n",
    "    n=int(input(\"Enter the value of n \"))\n",
    "    sum=sum+n\n",
    "print(\"Sum = \",sum)   "
   ]
  },
  {
   "cell_type": "code",
   "execution_count": 20,
   "id": "efe21740",
   "metadata": {},
   "outputs": [
    {
     "name": "stdout",
     "output_type": "stream",
     "text": [
      "Enter the value of n 50\n",
      "1 23 29 31 37 41 43 47 "
     ]
    }
   ],
   "source": [
    "#Q.NO 17\n",
    "# Write a Python program to print all the numbers from 1 to 1000 that are not divisible by\n",
    "# 2, 3, 5, 7, 11, 13, 17 and 19.\n",
    "n=int(input(\"Enter the value of n \"))\n",
    "for i in range (1,n+1):\n",
    "    if(i%2!=0 and i%3!=0 and i%5!=0 and i%7!=0 and i%11!=0 and i%13!=0 and i%17!=0 and i%19!=0):\n",
    "        print(i,end=\" \")\n",
    "    \n",
    "\n",
    " "
   ]
  },
  {
   "cell_type": "code",
   "execution_count": 25,
   "id": "889a032b",
   "metadata": {},
   "outputs": [
    {
     "name": "stdout",
     "output_type": "stream",
     "text": [
      "Enter first number : 60\n",
      "Enter second number : 45\n",
      "The HCF of  60 and 45 is : 15\n"
     ]
    }
   ],
   "source": [
    "# Q.No 18\n",
    "# Write a Python program to find HCF (GCD) of two numbers.\n",
    "\n",
    "n1=int(input(\"Enter first number : \"))\n",
    "n2=int(input(\"Enter second number : \"))\n",
    "if n1>n2:\n",
    "    small_num=n2\n",
    "else:\n",
    "    small_num=n1\n",
    "for i in range(1,small_num+1):\n",
    "    if n1%i==0 and n2%i==0:\n",
    "        HCF = i\n",
    "print(\"The HCF of \",n1, \"and\", n2, \"is :\",HCF)\n"
   ]
  },
  {
   "cell_type": "code",
   "execution_count": 28,
   "id": "d660e3c8",
   "metadata": {},
   "outputs": [
    {
     "name": "stdout",
     "output_type": "stream",
     "text": [
      "Enter number : 666\n",
      "  666 Is not a Armstrong number\n"
     ]
    }
   ],
   "source": [
    "#Q.No 19\n",
    "# Write a Python program to check whether a number is Armstrong number or not.\n",
    " \n",
    "num=int(input(\"Enter number : \"))\n",
    "sum=0\n",
    "n=num\n",
    "while(n!=0):\n",
    "    i=n%10\n",
    "    sum+=(i*i*i) # sum+=i**3\n",
    "    n=n//10 # num//=10\n",
    "if sum==num:\n",
    "    print(\" \",num,\"Is a Armstrong number\"  )\n",
    "else:\n",
    "    print(\" \",num,\"Is not a Armstrong number\"  )\n",
    "    "
   ]
  },
  {
   "cell_type": "code",
   "execution_count": 30,
   "id": "a15347b4",
   "metadata": {},
   "outputs": [
    {
     "name": "stdout",
     "output_type": "stream",
     "text": [
      "Enter number : 98435\n",
      "9 5\n",
      "98439\n",
      "58439\n"
     ]
    }
   ],
   "source": [
    "# Q.NO 20\n",
    "# Write a Python program to swap first and last digits of a number.\n",
    "\n",
    "num=int(input(\"Enter number : \"))\n",
    "n=num\n",
    "count=0\n",
    "while(n>0):\n",
    "    n//=10 # floor division\n",
    "    count=count+1\n",
    "count=count-1\n",
    "last=num%10\n",
    "first=num//(10**count)\n",
    "print(first,last)\n",
    "new=(num//10)*10+first # (2001//10)*10+first\n",
    "print(new)\n",
    "rev=(new%(10**count))+(last*(10**count))#(2002%(10**3))+(last*(10**3))\n",
    "print(rev)\n",
    "  \n",
    "    \n",
    "\n"
   ]
  },
  {
   "cell_type": "code",
   "execution_count": 31,
   "id": "1c097a00",
   "metadata": {},
   "outputs": [
    {
     "name": "stdout",
     "output_type": "stream",
     "text": [
      "Enter n : 100\n",
      "2 3 5 7 11 13 17 19 23 29 31 37 41 43 47 53 59 61 67 71 73 79 83 89 97 "
     ]
    }
   ],
   "source": [
    "# Q.NO 21\n",
    "# Write a Python program for printing prime numbers up to N. (N>100).\n",
    "n=int(input(\"Enter n : \"))\n",
    "for i in range (1,n+1):\n",
    "    count=0\n",
    "    for j in range (1,i+1):\n",
    "        if(i%j==0):\n",
    "            count+=1\n",
    "    if(count==2):\n",
    "        print(i,end=\" \")\n",
    "            \n",
    "        \n",
    "            \n",
    "            \n",
    "\n"
   ]
  },
  {
   "cell_type": "code",
   "execution_count": 44,
   "id": "247cf3fe",
   "metadata": {},
   "outputs": [
    {
     "name": "stdout",
     "output_type": "stream",
     "text": [
      "\n",
      "* \n",
      "* * \n",
      "* * * \n",
      "* * * * \n",
      "* * * * * \n",
      "* * * * \n",
      "* * * \n",
      "* * \n",
      "* \n",
      "\n"
     ]
    }
   ],
   "source": [
    "# Q.NO 22\n",
    "# Write a Python program to construct the following pattern, using a nested for loop.\n",
    "# * \n",
    "# * * \n",
    "# * * * \n",
    "# * * * * \n",
    "# * * * * * \n",
    "# * * * * \n",
    "# * * * \n",
    "# * * \n",
    "# *\n",
    "\n",
    "for i in range(1,7):\n",
    "    for j in range(1,i):\n",
    "        print(\"*\",end=\" \")\n",
    "    print()\n",
    "for i in range(5,0,-1):\n",
    "    for j in range(1,i):\n",
    "        print(\"*\",end=\" \")\n",
    "    print()"
   ]
  },
  {
   "cell_type": "code",
   "execution_count": 46,
   "id": "c645a419",
   "metadata": {},
   "outputs": [
    {
     "name": "stdout",
     "output_type": "stream",
     "text": [
      "1\t0\t1\t0\t\n",
      "0\t1\t0\t1\t\n",
      "1\t0\t1\t0\t\n",
      "0\t1\t0\t1\t\n"
     ]
    }
   ],
   "source": [
    "# Q.NO 23\n",
    "# Write a Python program to print following matrix.\n",
    "# 1 0 1 0\n",
    "# 0 1 0 1\n",
    "# 1 0 1 0\n",
    "# 0 1 0 1\n",
    "for i in range(1,5):\n",
    "    for j in range(1,5):\n",
    "        if(i+j)%2==0:\n",
    "            print(\"1\\t\",end=\"\")\n",
    "        else:\n",
    "            print(\"0\\t\",end=\"\")\n",
    "    print()"
   ]
  },
  {
   "cell_type": "code",
   "execution_count": 47,
   "id": "85336e06",
   "metadata": {},
   "outputs": [
    {
     "name": "stdout",
     "output_type": "stream",
     "text": [
      "Enter a number : 5\n",
      "120\n"
     ]
    }
   ],
   "source": [
    "# write factorial of given number\n",
    "n=int(input(\"Enter a number : \"))\n",
    "fact=1;\n",
    "for i in range (1,n+1):\n",
    "    fact=fact*i\n",
    "print(fact)"
   ]
  },
  {
   "cell_type": "markdown",
   "id": "e69497a4",
   "metadata": {},
   "source": [
    "### Functions in python\n",
    "- inbuilt functions\n",
    "- user defined functions\n",
    "- block of code that will execute when it is called\n",
    "- functions with return values and without arguments\n",
    "- functions without return values and with arguments\n"
   ]
  },
  {
   "cell_type": "code",
   "execution_count": null,
   "id": "ce41e144",
   "metadata": {},
   "outputs": [],
   "source": [
    "- To define a function we need to use def keyword\n",
    "# syntax: def Funcname(a,b,c): - formal parameters, variables\n",
    "#            statement 1\n",
    "#            statement 2\n",
    "#            return output\n",
    "# fucntioncalling : Funcname(1,2,3) - arguments, value to parameters\n",
    "            \n",
    " "
   ]
  },
  {
   "cell_type": "code",
   "execution_count": 7,
   "id": "73eccd9d",
   "metadata": {},
   "outputs": [
    {
     "name": "stdout",
     "output_type": "stream",
     "text": [
      "Enter num: 1\n",
      "1 is not even\n"
     ]
    }
   ],
   "source": [
    "# define a function to print given number is even or not- this function have arguments but no return values\n",
    "def iseven(n):\n",
    "    if n%2==0:\n",
    "        print(n,\"is even\")\n",
    "    else:\n",
    "        print(n,\"is not even\")\n",
    "# n=int(input(\"Enter num: \"))\n",
    "# iseven(n)\n",
    "        \n",
    "        "
   ]
  },
  {
   "cell_type": "code",
   "execution_count": 3,
   "id": "a0dbb6d1",
   "metadata": {},
   "outputs": [
    {
     "name": "stdout",
     "output_type": "stream",
     "text": [
      "hello everyone. Good morning\n"
     ]
    }
   ],
   "source": [
    "# defining a function without any arguments\n",
    "def wish():\n",
    "    print(\"hello everyone. Good morning\")\n",
    "wish()\n",
    "    "
   ]
  },
  {
   "cell_type": "code",
   "execution_count": 11,
   "id": "74957aec",
   "metadata": {},
   "outputs": [
    {
     "name": "stdout",
     "output_type": "stream",
     "text": [
      "Hello Chimmy ,Good Morning\n"
     ]
    }
   ],
   "source": [
    "#fucntion is called keyword argument, without value also it will run.\n",
    "def wish(name=None):\n",
    "    if name!=None:\n",
    "        print(\"Hello\",name,\",Good Morning\")\n",
    "    else:\n",
    "        print(\"Hello everyone. Good morning\")\n",
    "wish(\"Chimmy\")\n",
    "        "
   ]
  },
  {
   "cell_type": "markdown",
   "id": "da4f1d82",
   "metadata": {},
   "source": [
    "#### 3 types of arguments \n",
    "- arbitary argument\n",
    "- keyword argument\n",
    "- arbitary keyword argument"
   ]
  },
  {
   "cell_type": "code",
   "execution_count": 17,
   "id": "f874a46e",
   "metadata": {},
   "outputs": [
    {
     "name": "stdout",
     "output_type": "stream",
     "text": [
      "Second tastiest fruit is mango\n"
     ]
    }
   ],
   "source": [
    "# arbitary argument\n",
    "# *k is used to access the element\n",
    "def fruits(*k):\n",
    "    print(\"Second tastiest fruit is\",k[2])\n",
    "fruits(\"pineapple\",\"apple\",\"mango\",\"banana\")"
   ]
  },
  {
   "cell_type": "code",
   "execution_count": 22,
   "id": "0c3215e2",
   "metadata": {},
   "outputs": [
    {
     "data": {
      "text/plain": [
       "15"
      ]
     },
     "execution_count": 22,
     "metadata": {},
     "output_type": "execute_result"
    }
   ],
   "source": [
    "#keyword arguments\n",
    "def add(a,b,c):\n",
    "    return a+b+c\n",
    "add(a=3,b=5,c=7) # u can also write add(3,b=5,c=7) default argument"
   ]
  },
  {
   "cell_type": "code",
   "execution_count": 24,
   "id": "db6639c8",
   "metadata": {},
   "outputs": [
    {
     "data": {
      "text/plain": [
       "300"
      ]
     },
     "execution_count": 24,
     "metadata": {},
     "output_type": "execute_result"
    }
   ],
   "source": [
    "#arbitary keyword arguments, no need to declare the variables before, by applying we can apply required no.of arguments\n",
    "def multiply(**values):\n",
    "    return values[\"x\"]*values[\"y\"]*values[\"z\"]\n",
    "multiply(x=5,y=6,z=10)"
   ]
  },
  {
   "cell_type": "code",
   "execution_count": 27,
   "id": "8de9ea1c",
   "metadata": {},
   "outputs": [
    {
     "data": {
      "text/plain": [
       "False"
      ]
     },
     "execution_count": 27,
     "metadata": {},
     "output_type": "execute_result"
    }
   ],
   "source": [
    "# write a function to find the given number is prime number or not \n",
    "def isprime(n):\n",
    "    count=0\n",
    "    for i in range(2,n):\n",
    "        if n%i==0:\n",
    "            count+=1\n",
    "    if count==0:\n",
    "        return True\n",
    "    else:\n",
    "        return False\n",
    "        \n",
    "isprime(16)"
   ]
  },
  {
   "cell_type": "code",
   "execution_count": 12,
   "id": "88ae14f2",
   "metadata": {},
   "outputs": [
    {
     "name": "stdout",
     "output_type": "stream",
     "text": [
      "1 2 3 5 7 11 13 17 19 23 29 31 37 41 43 47 53 59 61 67 71 73 79 83 89 97 "
     ]
    }
   ],
   "source": [
    "def isprime(n):\n",
    "    count=0\n",
    "    for i in range(2,n):\n",
    "        if n%i==0:\n",
    "            count+=1\n",
    "    if count==0:\n",
    "        return True\n",
    "    else:\n",
    "        return False\n",
    "def primesin(a,b):\n",
    "    for j in range(a,b):\n",
    "        if isprime(j):\n",
    "            print(j,end=\" \")\n",
    "primesin(a=1,b=100)\n",
    "            "
   ]
  },
  {
   "cell_type": "code",
   "execution_count": 5,
   "id": "8f0dc021",
   "metadata": {},
   "outputs": [
    {
     "name": "stdout",
     "output_type": "stream",
     "text": [
      "Enter the value of n:9\n",
      "  16\n"
     ]
    }
   ],
   "source": [
    "# Q.NO 24\n",
    "# Define a function to find sum of all odd numbers between 1 to n.\n",
    "def odd(n):\n",
    "    sum=0\n",
    "   # n=int(input(\"Enter the value of n:\"))\n",
    "    for i in range (n):\n",
    "        if(i%2!=0):\n",
    "            sum=sum+i\n",
    "    print(\" \",sum)\n",
    "n=int(input(\"Enter the value of n:\"))\n",
    "odd(n)\n",
    "            \n",
    "    \n"
   ]
  },
  {
   "cell_type": "code",
   "execution_count": 7,
   "id": "0af272f8",
   "metadata": {},
   "outputs": [
    {
     "name": "stdout",
     "output_type": "stream",
     "text": [
      "  373 is a palindrome\n",
      "  123 is not a palindrome\n"
     ]
    }
   ],
   "source": [
    "# Q.NO 25\n",
    "# Define a function to check whether a number is palindrome or not.\n",
    "\n",
    "def palindrome(n):\n",
    "    temp=n\n",
    "    digit=0\n",
    "    while temp>0:\n",
    "        digit=digit*10+temp%10\n",
    "        #r=temp%10\n",
    "        temp=temp//10\n",
    "    if digit==n:\n",
    "        print(\" \",n,\"is a palindrome\")\n",
    "    else:\n",
    "        print(\" \",n,\"is not a palindrome\")\n",
    "palindrome(373)\n",
    "palindrome(123)\n",
    "        \n",
    "        \n",
    "        \n",
    "        \n",
    "    \n"
   ]
  },
  {
   "cell_type": "code",
   "execution_count": 8,
   "id": "f3e1573b",
   "metadata": {},
   "outputs": [
    {
     "name": "stdout",
     "output_type": "stream",
     "text": [
      "Enter radius : 4\n"
     ]
    },
    {
     "data": {
      "text/plain": [
       "'the area of circle with radius 4 is 50.24'"
      ]
     },
     "execution_count": 8,
     "metadata": {},
     "output_type": "execute_result"
    }
   ],
   "source": [
    "#Q.NO 26\n",
    "# Define a function to calculate the area of a circle using the formula.\n",
    "def area_of_circle(r):\n",
    "    area = 3.14*r*r\n",
    "    return \"the area of circle with radius {} is {}\".format(r,area)\n",
    "r=int(input(\"Enter radius : \"))\n",
    "area_of_circle(r)\n",
    "    \n",
    "    "
   ]
  },
  {
   "cell_type": "code",
   "execution_count": 10,
   "id": "51603d9b",
   "metadata": {},
   "outputs": [
    {
     "name": "stdout",
     "output_type": "stream",
     "text": [
      "Enter the number : 2\n",
      "2 is not perfect\n"
     ]
    }
   ],
   "source": [
    "## Q.NO 27\n",
    "# Define a function to check whether number is perfect or not\n",
    "def perfect(n):\n",
    "    sum=0\n",
    "    for i in range(1,n):\n",
    "        if(n%i==0):\n",
    "            sum=sum+i\n",
    "    if(sum==n):\n",
    "        print(n,\"is perfect\")\n",
    "    else:\n",
    "        print(n,\"is not perfect\")\n",
    "        \n",
    "n=int(input(\"Enter the number : \"))\n",
    "perfect(n)\n",
    "            \n",
    "    "
   ]
  },
  {
   "cell_type": "markdown",
   "id": "777f5a5b",
   "metadata": {},
   "source": [
    "### "
   ]
  },
  {
   "cell_type": "code",
   "execution_count": 14,
   "id": "f2e077b0",
   "metadata": {},
   "outputs": [
    {
     "name": "stdout",
     "output_type": "stream",
     "text": [
      "Enter number : 3\n",
      "3 X 1 = 3\n",
      "3 X 2 = 6\n",
      "3 X 3 = 9\n",
      "3 X 4 = 12\n",
      "3 X 5 = 15\n",
      "3 X 6 = 18\n",
      "3 X 7 = 21\n",
      "3 X 8 = 24\n",
      "3 X 9 = 27\n",
      "3 X 10 = 30\n"
     ]
    }
   ],
   "source": [
    "# Q.NO 28\n",
    "# Define a function to print multiplication table of any number.\n",
    "def multi(n):\n",
    "    for i in range(1,11):\n",
    "        print(n,\"X\",i,\"=\",n*i)\n",
    "n=int(input(\"Enter number : \"))\n",
    "multi(n)"
   ]
  },
  {
   "cell_type": "code",
   "execution_count": 17,
   "id": "68202bfb",
   "metadata": {},
   "outputs": [
    {
     "name": "stdout",
     "output_type": "stream",
     "text": [
      "The multiplication table of  1 is\n",
      "1 X 1 = 1\n",
      "1 X 2 = 2\n",
      "1 X 3 = 3\n",
      "1 X 4 = 4\n",
      "1 X 5 = 5\n",
      "1 X 6 = 6\n",
      "1 X 7 = 7\n",
      "1 X 8 = 8\n",
      "1 X 9 = 9\n",
      "1 X 10 = 10\n",
      "The multiplication table of  2 is\n",
      "2 X 1 = 2\n",
      "2 X 2 = 4\n",
      "2 X 3 = 6\n",
      "2 X 4 = 8\n",
      "2 X 5 = 10\n",
      "2 X 6 = 12\n",
      "2 X 7 = 14\n",
      "2 X 8 = 16\n",
      "2 X 9 = 18\n",
      "2 X 10 = 20\n"
     ]
    }
   ],
   "source": [
    "# Q.NO 29\n",
    "# Define a function to print table of a number. Using this function display table of numbers from \n",
    "# 1 to 10.\n",
    "def table(n):\n",
    "    for j in range(1,n+1):\n",
    "        print(\"The multiplication table of \",j,\"is\")\n",
    "        multi(j)\n",
    "table(2)\n"
   ]
  },
  {
   "cell_type": "code",
   "execution_count": 19,
   "id": "78234b20",
   "metadata": {},
   "outputs": [
    {
     "data": {
      "text/plain": [
       "9"
      ]
     },
     "execution_count": 19,
     "metadata": {},
     "output_type": "execute_result"
    }
   ],
   "source": [
    "# Q.NO 30\n",
    "# Define a recursive function to find power of a number.\n",
    "def power(base,exp):\n",
    "    if exp==0:\n",
    "        return 1\n",
    "    else:\n",
    "        return pow(base,exp)\n",
    "        #power(base,exp-1)*base\n",
    "power(2,2)\n",
    "\n",
    "    "
   ]
  },
  {
   "cell_type": "code",
   "execution_count": 15,
   "id": "e7629ad3",
   "metadata": {},
   "outputs": [
    {
     "data": {
      "text/plain": [
       "6"
      ]
     },
     "execution_count": 15,
     "metadata": {},
     "output_type": "execute_result"
    }
   ],
   "source": [
    "# Q.NO 31\n",
    "# Define a recursive function count number of digits in a number.\n",
    "def digitcount(n):\n",
    "    if n<=0:\n",
    "        return 0\n",
    "    else:\n",
    "        count = digitcount(n//10)+1\n",
    "    return count\n",
    "digitcount(234567)\n",
    "\n"
   ]
  },
  {
   "cell_type": "code",
   "execution_count": 22,
   "id": "4022b017",
   "metadata": {},
   "outputs": [
    {
     "name": "stdout",
     "output_type": "stream",
     "text": [
      "Sum of series = \n"
     ]
    },
    {
     "data": {
      "text/plain": [
       "33"
      ]
     },
     "execution_count": 22,
     "metadata": {},
     "output_type": "execute_result"
    }
   ],
   "source": [
    "#Q.NO 32\n",
    "# Write a recursive function to find the sum of 1^5 + 2^5 + ………..+n^5\n",
    "def sum_of_series(n):\n",
    "    if n==0:\n",
    "        return 0\n",
    "    else:\n",
    "        return sum_of_series(n-1)+n**5\n",
    "print(\"Sum of series = \")\n",
    "sum_of_series(2)\n"
   ]
  },
  {
   "cell_type": "code",
   "execution_count": 26,
   "id": "f005c2db",
   "metadata": {},
   "outputs": [
    {
     "name": "stdout",
     "output_type": "stream",
     "text": [
      "Factorial =  120\n"
     ]
    }
   ],
   "source": [
    "#Q.NO 33\n",
    "# Write a python program to find the factorial value of a number using recursion.\n",
    "def find_factorial(n):\n",
    "    fac=1\n",
    "    if n==1:\n",
    "        return 1\n",
    "    else: \n",
    "        return n*find_factorial(n-1)\n",
    "print(\"Factorial = \",find_factorial(5))\n",
    "#find_factorial(5)\n"
   ]
  },
  {
   "cell_type": "code",
   "execution_count": 29,
   "id": "05c1e232",
   "metadata": {},
   "outputs": [
    {
     "name": "stdout",
     "output_type": "stream",
     "text": [
      "Enter number of disks : 3\n",
      "Move Disk 1 from  A to  C\n",
      "Move Disk 2 from  A to  B\n",
      "Move Disk 1 from  C to  A\n",
      "Move Disk 3 from  A to  B\n",
      "Move Disk 1 from  C to  A\n",
      "Move Disk 2 from  C to  B\n",
      "Move Disk 1 from  A to  C\n"
     ]
    }
   ],
   "source": [
    "#Q.NO 34\n",
    "# Write a python program to implement Tower of Hanoi using recursive function.\n",
    "def Towers_of_Hanoi(n,source,auxiliary,target):\n",
    "    if (n==1):\n",
    "        print(\"Move Disk 1 from \",source,\"to \",target)\n",
    "    else:\n",
    "        \n",
    "        Towers_of_Hanoi(n-1,source,auxiliary,target)\n",
    "        print (\"Move Disk\",n,\"from \",source,\"to \",auxiliary)\n",
    "        Towers_of_Hanoi(n-1,target,auxiliary,source)\n",
    "        \n",
    "n=int(input(\"Enter number of disks : \"))    \n",
    "\n",
    "Towers_of_Hanoi(n,'A','B','C')\n",
    "    \n",
    "        \n",
    "\n"
   ]
  },
  {
   "cell_type": "code",
   "execution_count": 9,
   "id": "66fa9022",
   "metadata": {},
   "outputs": [
    {
     "name": "stdout",
     "output_type": "stream",
     "text": [
      "556 is not prime\n"
     ]
    }
   ],
   "source": [
    "#35.\n",
    "# Write function for finding factors (n) and use factors function to check whether given number \n",
    "# n is prime or not.\n",
    "def factors(n):\n",
    "    for i in range (1,n+1):\n",
    "        if n%i==0:\n",
    "            yield\n",
    "def isprime(n1):\n",
    "    count=0\n",
    "    for i in factors(n1):\n",
    "        count+=1\n",
    "    if count>2:\n",
    "        print(n1,\"is not prime\")\n",
    "    else:\n",
    "        print(n1,\"is prime\")\n",
    "isprime(556)"
   ]
  },
  {
   "cell_type": "code",
   "execution_count": 18,
   "id": "2bed690d",
   "metadata": {},
   "outputs": [
    {
     "name": "stdout",
     "output_type": "stream",
     "text": [
      "8\n",
      "0 1 1 2 3 5 8 13 "
     ]
    }
   ],
   "source": [
    "# 36. Write a python program for printing Fibonacci series\n",
    "# a. Write recursive approach implementation\n",
    "def fibonacci(n):\n",
    "    if n==0:\n",
    "        return 0\n",
    "    elif n==1:\n",
    "        return 1\n",
    "    else:\n",
    "        return(fibonacci(n-2)+fibonacci(n-1))\n",
    "for i in range(int(input())):\n",
    "    print(fibonacci(i),end=\" \")\n",
    "\n"
   ]
  },
  {
   "cell_type": "code",
   "execution_count": 13,
   "id": "9248eaa8",
   "metadata": {},
   "outputs": [
    {
     "name": "stdout",
     "output_type": "stream",
     "text": [
      "Enter number of terms: 8\n",
      "Fibonacci sequence:\n",
      "0\n",
      "1\n",
      "1\n",
      "2\n",
      "3\n",
      "5\n",
      "8\n",
      "13\n"
     ]
    }
   ],
   "source": [
    "# b. Write Iterative Implementation\n",
    "nterms = int(input(\"Enter number of terms: \"))\n",
    "n1, n2 = 0, 1\n",
    "count = 0\n",
    "\n",
    "if nterms <= 0:\n",
    "   print(\"Please enter a positive integer\")\n",
    "elif nterms == 1:\n",
    "   print(\"Fibonacci sequence upto\",nterms,\":\")\n",
    "   print(n1)\n",
    "else:\n",
    "   print(\"Fibonacci sequence:\")\n",
    "   while count < nterms:\n",
    "       print(n1)\n",
    "       nth = n1 + n2\n",
    "       n1 = n2\n",
    "       n2 = nth\n",
    "       count += 1\n",
    "    \n",
    "    "
   ]
  },
  {
   "cell_type": "markdown",
   "id": "02bdf69d",
   "metadata": {},
   "source": [
    "# Strings in Python\n",
    "\n",
    "####  static declaration \n",
    "#### my_string = \" \"   string = ' ' ' Hello ' ' '     string = \" \" \" Hello\" \" \"\n",
    "#### for dynamic we can use int keyword\n",
    "#### in order to access the characters in the string, we can use indexing like a[0],a[1],\n",
    "#### there are 2 types of indexing - positive indexing starts from 0,a[0]\n",
    "#### negative indexing starts from -1, a[-1], to access the characters from reverse.\n",
    "#### we can get bunch of characters by slicing , str[1:5], str[5:-2] [ starting char : last character]\n",
    "#### str[1:5] - slicing 2nd to 5th character str[5,:-2] - slicing 6th to 2nd character\n",
    "#### str = programiz\n",
    "#### str[0]=p\n",
    "#### str[-1]=z\n",
    "#### str[1:5]=rogr\n",
    "#### str[5:-2]=am\n",
    "#### to reverse the string >>str[::-1]\n",
    "#### string concatenation \n",
    "#### str1+str2 = HelloWorld\n",
    "#### str1*3 = string will be printed 3 times = Hello Hello Hello (string multiplied by number will print multiple times)\n",
    "#### methods of string - print(dir(str)) \n",
    "#### in order to know abt any method of the string use help function - help(str.method name)\n",
    "- casefold() - to chnage uppers case to lower case and vice versa\n",
    "- center()-pads string with specified character \n",
    "- count()- which characters repeats how many times\n",
    "- encode()- returns encoded string\n",
    "- endswith() - string ends eith ehich character\n",
    "- find() - returns index\n",
    "- index() - tells whichc char in which index\n",
    "- isalpha()- checks if all chars are alpha\n",
    "- is num () - checks if all chars are nums\n",
    "- isdecimal() -checks if all chars are decimals\n",
    "- split,lower,join,upper,\n",
    "#### We can print emojis in python\n",
    "#### str =\"\\U0001F917\" - change the nubers from F for different emojis\n",
    "#### print(str) \n",
    "\n"
   ]
  },
  {
   "cell_type": "code",
   "execution_count": 5,
   "id": "4beccd3b",
   "metadata": {},
   "outputs": [
    {
     "name": "stdout",
     "output_type": "stream",
     "text": [
      "['__add__', '__class__', '__contains__', '__delattr__', '__dir__', '__doc__', '__eq__', '__format__', '__ge__', '__getattribute__', '__getitem__', '__getnewargs__', '__gt__', '__hash__', '__init__', '__init_subclass__', '__iter__', '__le__', '__len__', '__lt__', '__mod__', '__mul__', '__ne__', '__new__', '__reduce__', '__reduce_ex__', '__repr__', '__rmod__', '__rmul__', '__setattr__', '__sizeof__', '__str__', '__subclasshook__', 'capitalize', 'casefold', 'center', 'count', 'encode', 'endswith', 'expandtabs', 'find', 'format', 'format_map', 'index', 'isalnum', 'isalpha', 'isascii', 'isdecimal', 'isdigit', 'isidentifier', 'islower', 'isnumeric', 'isprintable', 'isspace', 'istitle', 'isupper', 'join', 'ljust', 'lower', 'lstrip', 'maketrans', 'partition', 'removeprefix', 'removesuffix', 'replace', 'rfind', 'rindex', 'rjust', 'rpartition', 'rsplit', 'rstrip', 'split', 'splitlines', 'startswith', 'strip', 'swapcase', 'title', 'translate', 'upper', 'zfill']\n"
     ]
    }
   ],
   "source": [
    "print(dir(str))\n",
    "## the words without underscore are methods of python"
   ]
  },
  {
   "cell_type": "code",
   "execution_count": 64,
   "id": "2fa5e423",
   "metadata": {},
   "outputs": [
    {
     "name": "stdout",
     "output_type": "stream",
     "text": [
      "Help on built-in function split:\n",
      "\n",
      "split(sep=None, maxsplit=-1) method of builtins.str instance\n",
      "    Return a list of the words in the string, using sep as the delimiter string.\n",
      "    \n",
      "    sep\n",
      "      The delimiter according which to split the string.\n",
      "      None (the default value) means split according to any whitespace,\n",
      "      and discard empty strings from the result.\n",
      "    maxsplit\n",
      "      Maximum number of splits to do.\n",
      "      -1 (the default value) means no limit.\n",
      "\n"
     ]
    },
    {
     "data": {
      "text/plain": [
       "['python']"
      ]
     },
     "execution_count": 64,
     "metadata": {},
     "output_type": "execute_result"
    }
   ],
   "source": [
    "help(str.split)\n",
    "str1 =\"python\"\n",
    "str1.split()"
   ]
  },
  {
   "cell_type": "code",
   "execution_count": 50,
   "id": "bdf529b0",
   "metadata": {},
   "outputs": [
    {
     "name": "stdout",
     "output_type": "stream",
     "text": [
      "   wert to  wert to  wert to \n"
     ]
    }
   ],
   "source": [
    "#str = \"PYTHOn hie\" \n",
    "#str.casefold() #casefold - to change upper to lower only\n",
    "#str.swapcase() # swapcase - to change upper to lower and viceversa\n",
    "#str.title() # title - changes the first char of every word to upper case\n",
    "#str.capitalize() #- changes the first char to upper case of only the first word\n",
    "#str.center(1) # - takes on parameter and levaes space \n",
    "#str.count() # - will tell the no.of occurences in a word.\n",
    "#str =\"\\U0001F917\"\n",
    "#print(str)\n",
    "str =\" wert to \" # checks for upper and returns true if upper\n",
    "#str.isupper()\n",
    "#str.istitle() # returns true if first char of word is capital\n",
    "#str.split(\" \")\n",
    "#str.join(\"no\")\n",
    "#str.isascii()\n",
    "#str.isupper()\n",
    "#str.isidentifier() #Return True if the string is a valid Python identifier, False otherwise.\n",
    "#str.isalpha() #Return True if the string is an alphabetic string, False otherwise.\n",
    "#str.isspace() #Return True if the string is a whitespace string, False otherwise\n",
    "#str.isprintable() #Return True if the string is printable, False otherwise.\n",
    "#str.strip() #Return a copy of the string with leading and trailing whitespace removed.\n",
    "#str.index(\"e\") #returns the index of the characters of the string\n",
    "#print(\" \",str*3) #prints 3 times\n",
    "\n",
    "\n",
    "\n",
    "\n",
    "\n",
    "\n",
    "\n",
    "\n",
    "\n",
    "\n",
    "\n"
   ]
  },
  {
   "cell_type": "code",
   "execution_count": 4,
   "id": "afa662c6",
   "metadata": {},
   "outputs": [
    {
     "name": "stdout",
     "output_type": "stream",
     "text": [
      "[2, 'apple', 3, 99, 'sarayu', 35]\n"
     ]
    }
   ],
   "source": [
    "list=[2,'apple',3,99,'sarayu']\n",
    "list.append(35)\n",
    "print(list)"
   ]
  },
  {
   "cell_type": "code",
   "execution_count": 83,
   "id": "d2a35d15",
   "metadata": {},
   "outputs": [
    {
     "name": "stdout",
     "output_type": "stream",
     "text": [
      "🕔ikr, but we are having fun with emojis\n"
     ]
    }
   ],
   "source": [
    "test =\"\\U0001F554\"\n",
    "test3 =\"ikr, but we are I'm having fun with emojis\"\n",
    "print(test+test3)"
   ]
  },
  {
   "cell_type": "code",
   "execution_count": 56,
   "id": "271c4218",
   "metadata": {},
   "outputs": [
    {
     "name": "stdout",
     "output_type": "stream",
     "text": [
      "llo,\n",
      "Hello\n",
      "llo, World!\n"
     ]
    }
   ],
   "source": [
    "#### Positive Indexing - Exclusive get characters from postion 2 to position 5\n",
    "b = \"Hello, World!\"\n",
    "print(b[2:6])\n",
    "print(b[:5]) # (missed the strating) by default it starts from index 0 to positon 5\n",
    "print(b[2:]) # (missed the last) by default it will print until last \n"
   ]
  },
  {
   "cell_type": "code",
   "execution_count": 63,
   "id": "752c2433",
   "metadata": {},
   "outputs": [
    {
     "name": "stdout",
     "output_type": "stream",
     "text": [
      "orl\n",
      "!dlroW ,olleH\n",
      "!lo olH\n",
      "!r lH\n"
     ]
    }
   ],
   "source": [
    "#### Negative Indexing - inclusive\n",
    "b =\"Hello, World!\"\n",
    "print(b[-5:-2])\n",
    "print(b[::-1]) # to reverse string (-1 then ending to starting)\n",
    "print(b[::-2]) # reversing and printing alternatively\n",
    "print(b[::-3]) # reversing and skips 2 characters.\n",
    "\n",
    "\n"
   ]
  },
  {
   "cell_type": "code",
   "execution_count": 67,
   "id": "c6d46a9b",
   "metadata": {},
   "outputs": [
    {
     "name": "stdout",
     "output_type": "stream",
     "text": [
      "10 9 8 7 6 5 4 3 2 1 \n",
      "\n",
      "nohtyP\n",
      "Python\n",
      "nohty\n"
     ]
    }
   ],
   "source": [
    "# \"::\" so prints in reverse\n",
    "for i in range(10,0,-1):\n",
    "    print(i,end=\" \")\n",
    "str1 = \"Python\"\n",
    "print(\"\\n\")\n",
    "print(str1[len(str)::-1]) \n",
    "print(str1[::]) # no numbers mentioned so prints whole string.\n",
    "print(str1[len(str1):0:-1])"
   ]
  },
  {
   "cell_type": "code",
   "execution_count": 86,
   "id": "004ae150",
   "metadata": {},
   "outputs": [
    {
     "name": "stdout",
     "output_type": "stream",
     "text": [
      "No.of Vowels in given string :  10\n"
     ]
    }
   ],
   "source": [
    "# Q.NO 54\n",
    "# Write a program that counts up the number of vowels contained in the string S. Valid vowels \n",
    "# are: 'a', 'e', 'i', 'o', and 'u'. For example, if s = 'azcbobobegghakl', your program should print: \n",
    "# number of vowels 5\n",
    "s = 'azcbobobegghakl'\n",
    "vowels =\"aeiouAEIOU\"\n",
    "for i in s:\n",
    "    if i in vowels:\n",
    "        count+=1\n",
    "print(\"No.of Vowels in given string : \",count)\n"
   ]
  },
  {
   "cell_type": "code",
   "execution_count": 6,
   "id": "4a54b113",
   "metadata": {},
   "outputs": [
    {
     "name": "stdout",
     "output_type": "stream",
     "text": [
      "Enter any string: bobby\n",
      "The string you've entered is:  bobby\n",
      "The number of times 'bob' has occured in bobby is:  1\n"
     ]
    }
   ],
   "source": [
    "# Q.NO 55\n",
    "# Assume s is a string of lower-case characters. Write a program that prints the number of times \n",
    "# the string 'bob' occurs in s. For example, if s = 'azcbobobegghakl', then your program should \n",
    "# print Number of times bob occurs is 2.\n",
    "s=input(\"Enter any string: \")\n",
    "s1=s.lower()\n",
    "bob=0\n",
    "for i in range(len(s1)):\n",
    "    if(s1[i:i+3]=='bob'):\n",
    "        bob=bob+1\n",
    "print(\"The string you've entered is: \",s1.lower())\n",
    "print(\"The number of times 'bob' has occured in\",s1,\"is: \",bob)"
   ]
  },
  {
   "cell_type": "code",
   "execution_count": 9,
   "id": "d5762b4b",
   "metadata": {},
   "outputs": [
    {
     "name": "stdout",
     "output_type": "stream",
     "text": [
      "Enter the string: sarayu\n",
      "Enter the character to find: a\n",
      "The index at which the given character is present is:  1\n"
     ]
    }
   ],
   "source": [
    "# Q.NO 56\n",
    "# Write a Python program that finds whether a given character is present in a string or not. In \n",
    "# case if it is present then it prints the index at which it is present. Do not use built-in find \n",
    "# functions to search the character.\n",
    "def findme(inputstring,s):\n",
    "    for i in range(len(inputstring)):\n",
    "        if inputstring[i]==s:\n",
    "            break\n",
    "    print(\"The index at which the given character is present is: \",i)\n",
    "inputstring=input(\"Enter the string: \")\n",
    "s= input(\"Enter the character to find: \")\n",
    "findme(inputstring,s)"
   ]
  },
  {
   "cell_type": "code",
   "execution_count": 14,
   "id": "8315bb32",
   "metadata": {},
   "outputs": [
    {
     "name": "stdout",
     "output_type": "stream",
     "text": [
      "Enter input string: guggaga\n",
      "Enter character to count: g\n",
      "The occurrence of a character in a string is:  4\n"
     ]
    }
   ],
   "source": [
    "# Q.NO 57\n",
    "# Write a Python program that counts the occurrence of a character in a string. \n",
    "# Do not use built-in function.\n",
    "string=input(\"Enter input string: \")\n",
    "char=input(\"Enter character to count: \")\n",
    "count=0\n",
    "for i in string:\n",
    "    if i==char:\n",
    "        count+=1\n",
    "print(\"The occurrence of a character in a string is: \",count)\n",
    "\n",
    "        "
   ]
  },
  {
   "cell_type": "code",
   "execution_count": 2,
   "id": "6725680d",
   "metadata": {},
   "outputs": [
    {
     "name": "stdout",
     "output_type": "stream",
     "text": [
      "i am not cloud because i am not kavya\n"
     ]
    },
    {
     "data": {
      "text/plain": [
       "{'i': 1, 'am': 2, 'not': 3, 'cloud': 5, 'because': 7, 'kavya': 5}"
      ]
     },
     "execution_count": 2,
     "metadata": {},
     "output_type": "execute_result"
    }
   ],
   "source": [
    "# Q.NO 58\n",
    "# Write a python program for following:\n",
    "# a. Take a input string with spaces, split it into list of words\n",
    "# b. From the list of words, create dictionary with keys (only unique words) and values \n",
    "# (length of the word)\n",
    "\n",
    "s=input()\n",
    "wl=s.split()\n",
    "dic={}\n",
    "for i in wl:\n",
    "    if i not in dic:\n",
    "        dic[i]=len(i)\n",
    "dic\n"
   ]
  },
  {
   "cell_type": "code",
   "execution_count": 2,
   "id": "0dbfd90a",
   "metadata": {},
   "outputs": [
    {
     "ename": "SyntaxError",
     "evalue": "invalid syntax (282411987.py, line 16)",
     "output_type": "error",
     "traceback": [
      "\u001b[1;36m  Input \u001b[1;32mIn [2]\u001b[1;36m\u001b[0m\n\u001b[1;33m    for i in range(1)\u001b[0m\n\u001b[1;37m                     ^\u001b[0m\n\u001b[1;31mSyntaxError\u001b[0m\u001b[1;31m:\u001b[0m invalid syntax\n"
     ]
    }
   ],
   "source": [
    "# Q.NO 59\n",
    "# Write a python program to count number of vowels, spaces and to find longest word in a given \n",
    "# input string. (Take input string with spaces).\n",
    "stringinput =input(\"Enter input string: \")\n",
    "vowels =\"aeiouAEIOU\"\n",
    "vcount=0\n",
    "scount=0\n",
    "for j in stringinput:\n",
    "    if j in vowels:\n",
    "        vcount+=1\n",
    "    elif j.isspace():\n",
    "        scount+=1\n",
    "print(vcount,scount)\n",
    "w1=stringinput.split()\n",
    "max1=w1[1]\n",
    "for i in range(1)"
   ]
  },
  {
   "cell_type": "markdown",
   "id": "b49828e1",
   "metadata": {},
   "source": [
    "### LISTS in Python\n",
    "#### List is sequence of, {heterogenous data}. if data is homogenous then it's a array. \n",
    "#### list will allow different types of elements in in.\n",
    "#### List is mutable(we can chnage elements depending on position, append and delete)\n"
   ]
  },
  {
   "cell_type": "code",
   "execution_count": 5,
   "id": "f92be236",
   "metadata": {},
   "outputs": [
    {
     "name": "stdout",
     "output_type": "stream",
     "text": [
      "<class 'list'>\n",
      "<class 'list'>\n"
     ]
    }
   ],
   "source": [
    "#### Two ways to declare a list\n",
    "l1=[]\n",
    "l2=list()\n",
    "print(type(l1))\n",
    "print(type(l2))"
   ]
  },
  {
   "cell_type": "code",
   "execution_count": 3,
   "id": "a100cc01",
   "metadata": {},
   "outputs": [
    {
     "name": "stdout",
     "output_type": "stream",
     "text": [
      "12\n",
      "23.5\n",
      "u\n",
      "45\n",
      "9.34\n",
      "hello\n"
     ]
    }
   ],
   "source": [
    "a=[12,23.5,'u',45,9.34,\"hello\"]\n",
    "for i in a:\n",
    "    print(i)\n",
    "b=iter(a) # function\n",
    "\n",
    "\n",
    "\n"
   ]
  },
  {
   "cell_type": "markdown",
   "id": "f8a3691f",
   "metadata": {},
   "source": [
    "#print(next(b)) #calling the function\n",
    "#keep on running it, it will show the elements one by on of the list, when the elements are over\n",
    "#then it shows stopiteration\n"
   ]
  },
  {
   "cell_type": "code",
   "execution_count": 19,
   "id": "53370c61",
   "metadata": {},
   "outputs": [
    {
     "data": {
      "text/plain": [
       "'hello'"
      ]
     },
     "execution_count": 19,
     "metadata": {},
     "output_type": "execute_result"
    }
   ],
   "source": [
    "a[0]\n",
    "a[-1]"
   ]
  },
  {
   "cell_type": "code",
   "execution_count": 20,
   "id": "4a9e1d71",
   "metadata": {},
   "outputs": [
    {
     "name": "stdout",
     "output_type": "stream",
     "text": [
      "['hello', 9.34, 45, 'u', 23.5, 12]\n"
     ]
    }
   ],
   "source": [
    "a[0:3] # slicing the list\n",
    "print(a[::-1]) # reverse items"
   ]
  },
  {
   "cell_type": "code",
   "execution_count": 21,
   "id": "a973343e",
   "metadata": {},
   "outputs": [
    {
     "name": "stdout",
     "output_type": "stream",
     "text": [
      "['__add__', '__class__', '__class_getitem__', '__contains__', '__delattr__', '__delitem__', '__dir__', '__doc__', '__eq__', '__format__', '__ge__', '__getattribute__', '__getitem__', '__gt__', '__hash__', '__iadd__', '__imul__', '__init__', '__init_subclass__', '__iter__', '__le__', '__len__', '__lt__', '__mul__', '__ne__', '__new__', '__reduce__', '__reduce_ex__', '__repr__', '__reversed__', '__rmul__', '__setattr__', '__setitem__', '__sizeof__', '__str__', '__subclasshook__', 'append', 'clear', 'copy', 'count', 'extend', 'index', 'insert', 'pop', 'remove', 'reverse', 'sort']\n"
     ]
    }
   ],
   "source": [
    "#print(dir(list)) # just like methods in string, we have methods in list"
   ]
  },
  {
   "cell_type": "code",
   "execution_count": 41,
   "id": "c5c6656c",
   "metadata": {},
   "outputs": [
    {
     "name": "stdout",
     "output_type": "stream",
     "text": [
      "[12, 23.5, 'u', 45, 9.34, 'hello', 12, 12, 'u', 'u', '9.34']\n"
     ]
    }
   ],
   "source": [
    "#a=[12,23.5,'u',45,9.34,\"hello\"]\n",
    "a.append('9.34') # to add elements at end of the list\n",
    "a\n",
    "print(a)"
   ]
  },
  {
   "cell_type": "code",
   "execution_count": 16,
   "id": "1f296fc9",
   "metadata": {},
   "outputs": [
    {
     "name": "stdout",
     "output_type": "stream",
     "text": [
      "[12, 23.5, 'u', 45, 9.34, 'hello', 9, 9, 9, 9, 9, [...], 'a', 'hope']\n"
     ]
    }
   ],
   "source": [
    "print(a)"
   ]
  },
  {
   "cell_type": "code",
   "execution_count": 30,
   "id": "ab98b0d8",
   "metadata": {},
   "outputs": [
    {
     "data": {
      "text/plain": [
       "[]"
      ]
     },
     "execution_count": 30,
     "metadata": {},
     "output_type": "execute_result"
    }
   ],
   "source": [
    "#a.clear() # clears the elements of the list\n",
    "#a.copy() # returns the copy of the list\n"
   ]
  },
  {
   "cell_type": "code",
   "execution_count": 68,
   "id": "64257d55",
   "metadata": {},
   "outputs": [
    {
     "name": "stdout",
     "output_type": "stream",
     "text": [
      "Help on method_descriptor:\n",
      "\n",
      "sort(self, /, *, key=None, reverse=False)\n",
      "    Sort the list in ascending order and return None.\n",
      "    \n",
      "    The sort is in-place (i.e. the list itself is modified) and stable (i.e. the\n",
      "    order of two equal elements is maintained).\n",
      "    \n",
      "    If a key function is given, apply it once to each list item and sort them,\n",
      "    ascending or descending, according to their function values.\n",
      "    \n",
      "    The reverse flag can be set to sort in descending order.\n",
      "\n"
     ]
    }
   ],
   "source": [
    "help(list.sort)\n"
   ]
  },
  {
   "cell_type": "code",
   "execution_count": 35,
   "id": "aaaffd8b",
   "metadata": {},
   "outputs": [
    {
     "data": {
      "text/plain": [
       "3"
      ]
     },
     "execution_count": 35,
     "metadata": {},
     "output_type": "execute_result"
    }
   ],
   "source": [
    "a=[12,23.5,'u',45,9.34,\"hello\",12,12]\n",
    "a.count(12) # returns the no.of times an element repeats"
   ]
  },
  {
   "cell_type": "code",
   "execution_count": 49,
   "id": "e8379d1b",
   "metadata": {},
   "outputs": [],
   "source": [
    "a=[12,23.5,'u',45,9.34,\"hello\",12]\n",
    "a.extend('u')"
   ]
  },
  {
   "cell_type": "code",
   "execution_count": 50,
   "id": "b7baf8ee",
   "metadata": {},
   "outputs": [
    {
     "name": "stdout",
     "output_type": "stream",
     "text": [
      "[12, 23.5, 'u', 45, 9.34, 'hello', 12, 'u']\n"
     ]
    }
   ],
   "source": [
    "print(a)"
   ]
  },
  {
   "cell_type": "code",
   "execution_count": 52,
   "id": "1c592bd1",
   "metadata": {},
   "outputs": [
    {
     "data": {
      "text/plain": [
       "1"
      ]
     },
     "execution_count": 52,
     "metadata": {},
     "output_type": "execute_result"
    }
   ],
   "source": [
    "a.index(23.5) #prints the index of the elements in the list"
   ]
  },
  {
   "cell_type": "code",
   "execution_count": 55,
   "id": "a91205af",
   "metadata": {},
   "outputs": [],
   "source": [
    "a.insert(0,10)  #inserts elements in front of the index specified"
   ]
  },
  {
   "cell_type": "code",
   "execution_count": 56,
   "id": "4c5b64b9",
   "metadata": {},
   "outputs": [
    {
     "name": "stdout",
     "output_type": "stream",
     "text": [
      "[10, 12, 23.5, 'u', 45, 9.34, 'hello', 12, 'u']\n"
     ]
    }
   ],
   "source": [
    "print(a)"
   ]
  },
  {
   "cell_type": "code",
   "execution_count": 61,
   "id": "f3a6baab",
   "metadata": {},
   "outputs": [
    {
     "data": {
      "text/plain": [
       "12"
      ]
     },
     "execution_count": 61,
     "metadata": {},
     "output_type": "execute_result"
    }
   ],
   "source": [
    "a.pop()# pops out the last element"
   ]
  },
  {
   "cell_type": "code",
   "execution_count": 62,
   "id": "f788c10e",
   "metadata": {},
   "outputs": [
    {
     "name": "stdout",
     "output_type": "stream",
     "text": [
      "[10, 12, 23.5, 'u', 45, 9.34, 'hello']\n"
     ]
    }
   ],
   "source": [
    "print(a)"
   ]
  },
  {
   "cell_type": "code",
   "execution_count": 64,
   "id": "62ca8bc2",
   "metadata": {},
   "outputs": [],
   "source": [
    "a.remove(45)# removes any elements which is specified from the list"
   ]
  },
  {
   "cell_type": "code",
   "execution_count": 65,
   "id": "1d376690",
   "metadata": {},
   "outputs": [
    {
     "name": "stdout",
     "output_type": "stream",
     "text": [
      "[10, 12, 23.5, 'u', 9.34, 'hello']\n"
     ]
    }
   ],
   "source": [
    "print(a)"
   ]
  },
  {
   "cell_type": "code",
   "execution_count": 66,
   "id": "f68212c9",
   "metadata": {},
   "outputs": [],
   "source": [
    "a.reverse()# reverses the list\n"
   ]
  },
  {
   "cell_type": "code",
   "execution_count": 67,
   "id": "76d69f7c",
   "metadata": {},
   "outputs": [
    {
     "name": "stdout",
     "output_type": "stream",
     "text": [
      "['hello', 9.34, 'u', 23.5, 12, 10]\n"
     ]
    }
   ],
   "source": [
    "print(a)"
   ]
  },
  {
   "cell_type": "code",
   "execution_count": 70,
   "id": "d17dec71",
   "metadata": {},
   "outputs": [],
   "source": [
    "a=[12,23,45,9,34,12] # only applicable to integers and sorts the elements in ascending order\n",
    "a.sort()"
   ]
  },
  {
   "cell_type": "code",
   "execution_count": 71,
   "id": "c6782610",
   "metadata": {},
   "outputs": [
    {
     "name": "stdout",
     "output_type": "stream",
     "text": [
      "[9, 12, 12, 23, 34, 45]\n"
     ]
    }
   ],
   "source": [
    "print(a)"
   ]
  },
  {
   "cell_type": "markdown",
   "id": "221d6982",
   "metadata": {},
   "source": [
    "## Dictionaries in Python\n",
    "#### Python dictionary is an ordered  collection of items.\n",
    "#### Each item of a dictionary has a key and value pair\n",
    "#### Dictionaries are optimized to retrieve values when the key is known\n",
    "#### Also a mutable sequence type"
   ]
  },
  {
   "cell_type": "code",
   "execution_count": 76,
   "id": "b20c8928",
   "metadata": {},
   "outputs": [
    {
     "name": "stdout",
     "output_type": "stream",
     "text": [
      "<class 'dict'>\n",
      "<class 'dict'>\n"
     ]
    }
   ],
   "source": [
    "# creating empty dictionary\n",
    "d={} # method 1\n",
    "print(type(d))\n",
    "d1=dict() # method 2\n",
    "print(type(d1))"
   ]
  },
  {
   "cell_type": "code",
   "execution_count": 81,
   "id": "0140c1af",
   "metadata": {},
   "outputs": [
    {
     "name": "stdout",
     "output_type": "stream",
     "text": [
      "{'a': 1, 'b': 2, 'c': [1, 2, 3]}\n"
     ]
    }
   ],
   "source": [
    "d1={\"a\":1,\"b\":2, \"c\":[1,2,3]}\n",
    "print(d1)"
   ]
  },
  {
   "cell_type": "code",
   "execution_count": 82,
   "id": "e24cca3e",
   "metadata": {},
   "outputs": [
    {
     "data": {
      "text/plain": [
       "[1, 2, 3]"
      ]
     },
     "execution_count": 82,
     "metadata": {},
     "output_type": "execute_result"
    }
   ],
   "source": [
    "d1[\"a\"] # calling element in list, return value of it\n",
    "d1[\"c\"]"
   ]
  },
  {
   "cell_type": "code",
   "execution_count": 85,
   "id": "7469adc4",
   "metadata": {},
   "outputs": [
    {
     "name": "stdout",
     "output_type": "stream",
     "text": [
      "{'a': 1, 'b': 2, 'c': [1, 2, 3], 'd': 'apple'}\n"
     ]
    }
   ],
   "source": [
    "d1[\"d\"]=\"apple\" # to add a new key and value pair\n",
    "print(d1)"
   ]
  },
  {
   "cell_type": "code",
   "execution_count": 86,
   "id": "839d0f51",
   "metadata": {},
   "outputs": [
    {
     "name": "stdout",
     "output_type": "stream",
     "text": [
      "{'a': 1, 'b': 2, 'c': 'harry', 'd': 'apple'}\n"
     ]
    }
   ],
   "source": [
    "d1[\"c\"]=\"harry\" # assigning new value of key, it overwrites the old key value\n",
    "print(d1)"
   ]
  },
  {
   "cell_type": "code",
   "execution_count": 89,
   "id": "ce159d23",
   "metadata": {},
   "outputs": [
    {
     "name": "stdout",
     "output_type": "stream",
     "text": [
      "(1, 5)\n",
      "(2, 6)\n",
      "(3, 7)\n"
     ]
    }
   ],
   "source": [
    "a= zip([1,2,3],[5,6,7])  # 2 data structures, but should have same number of indexes\n",
    "for i in a: #loop, then returns tuples\n",
    "    print(i)"
   ]
  },
  {
   "cell_type": "code",
   "execution_count": 91,
   "id": "0e892d35",
   "metadata": {},
   "outputs": [
    {
     "data": {
      "text/plain": [
       "{1: 5, 2: 6, 3: 7}"
      ]
     },
     "execution_count": 91,
     "metadata": {},
     "output_type": "execute_result"
    }
   ],
   "source": [
    "dic={}\n",
    "a= zip([1,2,3],[5,6,7]) \n",
    "for i in a:\n",
    "    dic[i[0]]=i[1]\n",
    "dic"
   ]
  },
  {
   "cell_type": "code",
   "execution_count": 24,
   "id": "49a7cc22",
   "metadata": {},
   "outputs": [
    {
     "name": "stdout",
     "output_type": "stream",
     "text": [
      "To\n"
     ]
    }
   ],
   "source": [
    "Dict = {1:'Geeks', 2: 'For', 3:{'A': 'Welcome', 'B': 'To', 'C': 'Geeks'}}\n",
    "print(Dict[3]['B']) # nested dictionary"
   ]
  },
  {
   "cell_type": "code",
   "execution_count": 7,
   "id": "3a73ae14",
   "metadata": {},
   "outputs": [
    {
     "data": {
      "text/plain": [
       "3"
      ]
     },
     "execution_count": 7,
     "metadata": {},
     "output_type": "execute_result"
    }
   ],
   "source": [
    "n_l=[1,[3,4,5],6,9]\n",
    "n_l[1][0] #nested list\n",
    "n_l[1][-1] #last element of list"
   ]
  },
  {
   "cell_type": "code",
   "execution_count": 23,
   "id": "438d02a7",
   "metadata": {},
   "outputs": [
    {
     "name": "stdout",
     "output_type": "stream",
     "text": [
      "90\n"
     ]
    }
   ],
   "source": [
    "n=[76,90,54,3,2]\n",
    "max1=n[0]\n",
    "for i in n:\n",
    "    if(max1<i):\n",
    "        max1 = i\n",
    "    else:\n",
    "        pass\n",
    "print(max1)"
   ]
  },
  {
   "cell_type": "markdown",
   "id": "d4630c9f",
   "metadata": {},
   "source": [
    "## Tuples\n",
    "#### Tuple is used to store multiple items in a single variable\n",
    "#### We can use indexing to retrieve an element \n",
    "#### Inmutable - can't change the element once it's assigned\n",
    "#### Ordered collection of data within the parentheses\n",
    "####  Can convert tuple to list, list to tuple\n",
    "#### Compared to list, tuple is faster\n"
   ]
  },
  {
   "cell_type": "code",
   "execution_count": 5,
   "id": "aa2f2581",
   "metadata": {},
   "outputs": [
    {
     "name": "stdout",
     "output_type": "stream",
     "text": [
      "<class 'tuple'>\n",
      "<class 'tuple'>\n"
     ]
    }
   ],
   "source": [
    "# Creating a tuple\n",
    "t=()\n",
    "t1=tuple()\n",
    "print(type(t))\n",
    "print(type(t1))"
   ]
  },
  {
   "cell_type": "code",
   "execution_count": 8,
   "id": "3f854519",
   "metadata": {},
   "outputs": [
    {
     "data": {
      "text/plain": [
       "tuple"
      ]
     },
     "execution_count": 8,
     "metadata": {},
     "output_type": "execute_result"
    }
   ],
   "source": [
    "l =[1,2,3] #converting list to tuple\n",
    "l=tuple(l)\n",
    "type(l)"
   ]
  },
  {
   "cell_type": "code",
   "execution_count": 9,
   "id": "b357c8f8",
   "metadata": {},
   "outputs": [
    {
     "data": {
      "text/plain": [
       "1"
      ]
     },
     "execution_count": 9,
     "metadata": {},
     "output_type": "execute_result"
    }
   ],
   "source": [
    "l[0] # accessing element using indexing"
   ]
  },
  {
   "cell_type": "code",
   "execution_count": 10,
   "id": "c201dd5e",
   "metadata": {},
   "outputs": [
    {
     "data": {
      "text/plain": [
       "3"
      ]
     },
     "execution_count": 10,
     "metadata": {},
     "output_type": "execute_result"
    }
   ],
   "source": [
    "l[-1] #accesing the last element"
   ]
  },
  {
   "cell_type": "code",
   "execution_count": 17,
   "id": "478dcbe4",
   "metadata": {},
   "outputs": [
    {
     "name": "stdout",
     "output_type": "stream",
     "text": [
      "[1, 23, 6, 9]\n"
     ]
    }
   ],
   "source": [
    "#n_l=[1,[3,4,5],6,9]\n",
    "n_l[1]=23\n",
    "print(n_l)\n",
    "#l[1]=23 # cannot change"
   ]
  },
  {
   "cell_type": "code",
   "execution_count": 16,
   "id": "a2f8ae3c",
   "metadata": {},
   "outputs": [
    {
     "name": "stdout",
     "output_type": "stream",
     "text": [
      "['__add__', '__class__', '__class_getitem__', '__contains__', '__delattr__', '__dir__', '__doc__', '__eq__', '__format__', '__ge__', '__getattribute__', '__getitem__', '__getnewargs__', '__gt__', '__hash__', '__init__', '__init_subclass__', '__iter__', '__le__', '__len__', '__lt__', '__mul__', '__ne__', '__new__', '__reduce__', '__reduce_ex__', '__repr__', '__rmul__', '__setattr__', '__sizeof__', '__str__', '__subclasshook__', 'count', 'index']\n"
     ]
    }
   ],
   "source": [
    "print(dir(tuple))"
   ]
  },
  {
   "cell_type": "code",
   "execution_count": 47,
   "id": "629b2aaf",
   "metadata": {},
   "outputs": [
    {
     "data": {
      "text/plain": [
       "3"
      ]
     },
     "execution_count": 47,
     "metadata": {},
     "output_type": "execute_result"
    }
   ],
   "source": [
    "#help(tuple.count)\n",
    "n_l=[1,1,3,4,5,6,1] # returns the number of occurences of the element\n",
    "n_l.count(1)"
   ]
  },
  {
   "cell_type": "code",
   "execution_count": 42,
   "id": "11068aaa",
   "metadata": {},
   "outputs": [
    {
     "name": "stdout",
     "output_type": "stream",
     "text": [
      "Help on method_descriptor:\n",
      "\n",
      "count(self, value, /)\n",
      "    Return number of occurrences of value.\n",
      "\n"
     ]
    }
   ],
   "source": [
    "help(tuple.count)"
   ]
  },
  {
   "cell_type": "code",
   "execution_count": 40,
   "id": "aa27b7d8",
   "metadata": {},
   "outputs": [
    {
     "data": {
      "text/plain": [
       "1"
      ]
     },
     "execution_count": 40,
     "metadata": {},
     "output_type": "execute_result"
    }
   ],
   "source": [
    "l =[1,2,3] # returns the index of the element\n",
    "t1=tuple(l)\n",
    "t1.index(2)"
   ]
  },
  {
   "cell_type": "code",
   "execution_count": null,
   "id": "72ef322f",
   "metadata": {},
   "outputs": [],
   "source": [
    "# 42. Write a Python program to create a list of each digit is a element in a list from a number. \n",
    "# Example: Input: 5467, Output: [5,4,6,7]\n"
   ]
  },
  {
   "cell_type": "markdown",
   "id": "4a283fc6",
   "metadata": {},
   "source": [
    "## SETS in Python\n",
    "#### Sets are a collection of data. Represented in { }\n",
    "#### Sets allows heterogenous data\n",
    "#### Sets are unordered and unindexed\n",
    "#### Mutable\n",
    "#### Sets are followed by basic data structure called hash table \n",
    "#### Sets doesnot allow duplicate data"
   ]
  },
  {
   "cell_type": "code",
   "execution_count": 1,
   "id": "81e9943f",
   "metadata": {},
   "outputs": [
    {
     "name": "stdout",
     "output_type": "stream",
     "text": [
      "<class 'set'>\n"
     ]
    }
   ],
   "source": [
    "# Creating a set\n",
    "s=set()\n",
    "print(type(s))"
   ]
  },
  {
   "cell_type": "code",
   "execution_count": 5,
   "id": "91854662",
   "metadata": {},
   "outputs": [
    {
     "name": "stdout",
     "output_type": "stream",
     "text": [
      "The type of {1, 2, 3, 4, 5} is <class 'set'>\n",
      "The type of {'python', 3.4} is <class 'set'>\n"
     ]
    }
   ],
   "source": [
    "set1 ={1,2,3,4,5}\n",
    "print(f\"The type of {set1} is {type(set1)}\")\n",
    "set2 ={3.4, 'python'}\n",
    "print(f\"The type of {set2} is {type(set2)}\")"
   ]
  },
  {
   "cell_type": "code",
   "execution_count": 3,
   "id": "b45fe34d",
   "metadata": {},
   "outputs": [
    {
     "name": "stdout",
     "output_type": "stream",
     "text": [
      "{1, 3, 'a', 4, 6, 8}\n"
     ]
    }
   ],
   "source": [
    "#doesnot allow duplicates\n",
    "set_1 = {1,3,'a',4,'a',6,8} # Repeated items will print only once\n",
    "print(set_1) "
   ]
  },
  {
   "cell_type": "code",
   "execution_count": 6,
   "id": "dd4a4c8a",
   "metadata": {},
   "outputs": [
    {
     "ename": "TypeError",
     "evalue": "unhashable type: 'list'",
     "output_type": "error",
     "traceback": [
      "\u001b[1;31m---------------------------------------------------------------------------\u001b[0m",
      "\u001b[1;31mTypeError\u001b[0m                                 Traceback (most recent call last)",
      "Input \u001b[1;32mIn [6]\u001b[0m, in \u001b[0;36m<cell line: 2>\u001b[1;34m()\u001b[0m\n\u001b[0;32m      1\u001b[0m \u001b[38;5;66;03m#unhashable elements\u001b[39;00m\n\u001b[1;32m----> 2\u001b[0m set1\u001b[38;5;241m=\u001b[39m{\u001b[38;5;241m1\u001b[39m,[\u001b[38;5;241m3\u001b[39m,\u001b[38;5;124m'\u001b[39m\u001b[38;5;124mb\u001b[39m\u001b[38;5;124m'\u001b[39m,\u001b[38;5;241m5.0\u001b[39m],\u001b[38;5;241m6.7\u001b[39m,\u001b[38;5;124m'\u001b[39m\u001b[38;5;124mt\u001b[39m\u001b[38;5;124m'\u001b[39m}\n\u001b[0;32m      3\u001b[0m set2\u001b[38;5;241m=\u001b[39m{\u001b[38;5;241m4.6\u001b[39m,{\u001b[38;5;241m5\u001b[39m,\u001b[38;5;241m6\u001b[39m,\u001b[38;5;124m'\u001b[39m\u001b[38;5;124mt\u001b[39m\u001b[38;5;124m'\u001b[39m},\u001b[38;5;241m7\u001b[39m}\n\u001b[0;32m      4\u001b[0m set3\u001b[38;5;241m=\u001b[39m{\u001b[38;5;241m3.2\u001b[39m,{\u001b[38;5;241m1\u001b[39m:\u001b[38;5;124m'\u001b[39m\u001b[38;5;124ms\u001b[39m\u001b[38;5;124m'\u001b[39m,\u001b[38;5;241m2\u001b[39m:\u001b[38;5;124m'\u001b[39m\u001b[38;5;124mr\u001b[39m\u001b[38;5;124m'\u001b[39m},\u001b[38;5;241m7\u001b[39m,\u001b[38;5;124m'\u001b[39m\u001b[38;5;124my\u001b[39m\u001b[38;5;124m'\u001b[39m}\n",
      "\u001b[1;31mTypeError\u001b[0m: unhashable type: 'list'"
     ]
    }
   ],
   "source": [
    "#unhashable elements - error\n",
    "set1={1,[3,'b',5.0],6.7,'t'}\n",
    "set2={4.6,{5,6,'t'},7}\n",
    "set3={3.2,{1:'s',2:'r'},7,'y'}"
   ]
  },
  {
   "cell_type": "code",
   "execution_count": 7,
   "id": "f8832280",
   "metadata": {},
   "outputs": [
    {
     "data": {
      "text/plain": [
       "{(4, 't', 7.8), 1, 3.6}"
      ]
     },
     "execution_count": 7,
     "metadata": {},
     "output_type": "execute_result"
    }
   ],
   "source": [
    "#creating a set with tuple\n",
    "set4={1,3.6,(4,'t',7.8)}\n",
    "set4"
   ]
  },
  {
   "cell_type": "code",
   "execution_count": 8,
   "id": "d53fbdfc",
   "metadata": {},
   "outputs": [
    {
     "name": "stdout",
     "output_type": "stream",
     "text": [
      "The type of {} is <class 'dict'>\n"
     ]
    }
   ],
   "source": [
    "#creating an empty set\n",
    "var={}\n",
    "print(f\"The type of {var} is {type(var)}\")"
   ]
  },
  {
   "cell_type": "code",
   "execution_count": 9,
   "id": "e6c07d39",
   "metadata": {},
   "outputs": [
    {
     "name": "stdout",
     "output_type": "stream",
     "text": [
      "The type of set() is <class 'set'>\n"
     ]
    },
    {
     "data": {
      "text/plain": [
       "False"
      ]
     },
     "execution_count": 9,
     "metadata": {},
     "output_type": "execute_result"
    }
   ],
   "source": [
    "#creating set with set function\n",
    "set1=set()\n",
    "print(f\"The type of {set1} is {type(set1)}\")\n",
    "bool(set1)"
   ]
  },
  {
   "cell_type": "code",
   "execution_count": 10,
   "id": "b95ec46f",
   "metadata": {},
   "outputs": [
    {
     "name": "stdout",
     "output_type": "stream",
     "text": [
      "{'e', 'n', 'G', 'o', 'h', 'y', 'P', 't', 's', 'k'}\n"
     ]
    },
    {
     "data": {
      "text/plain": [
       "{4, 5.6, 'a', 'b'}"
      ]
     },
     "execution_count": 10,
     "metadata": {},
     "output_type": "execute_result"
    }
   ],
   "source": [
    "#example of creating set with set function\n",
    "set1=set(\"PythonGeeks\") #creating a set from a string\n",
    "print(set1)\n",
    "set2=set([1,2,3,4,1,2]) #creating a set from a list\n",
    "set2\n",
    "set3=set(('a','b',4,5.6))#creating a set from a tuple\n",
    "set3"
   ]
  },
  {
   "cell_type": "code",
   "execution_count": 11,
   "id": "cb401308",
   "metadata": {},
   "outputs": [
    {
     "data": {
      "text/plain": [
       "{'a', 'b'}"
      ]
     },
     "execution_count": 11,
     "metadata": {},
     "output_type": "execute_result"
    }
   ],
   "source": [
    "# creatinf set with string\n",
    "set1={'abab'}\n",
    "set1\n",
    "set2=set('abab')\n",
    "set2"
   ]
  },
  {
   "cell_type": "code",
   "execution_count": 14,
   "id": "719def0f",
   "metadata": {},
   "outputs": [
    {
     "data": {
      "text/plain": [
       "{1, 2, 6.9, 'r', 'y'}"
      ]
     },
     "execution_count": 14,
     "metadata": {},
     "output_type": "execute_result"
    }
   ],
   "source": [
    "#accessing the entire set\n",
    "set1={1,2,'r','y',6.9}\n",
    "set1\n",
    "\n",
    "#set2={1,4,2,1,3,2}\n",
    "#set2"
   ]
  },
  {
   "cell_type": "code",
   "execution_count": 15,
   "id": "3b59ea24",
   "metadata": {},
   "outputs": [
    {
     "ename": "TypeError",
     "evalue": "'set' object is not subscriptable",
     "output_type": "error",
     "traceback": [
      "\u001b[1;31m---------------------------------------------------------------------------\u001b[0m",
      "\u001b[1;31mTypeError\u001b[0m                                 Traceback (most recent call last)",
      "Input \u001b[1;32mIn [15]\u001b[0m, in \u001b[0;36m<cell line: 3>\u001b[1;34m()\u001b[0m\n\u001b[0;32m      1\u001b[0m \u001b[38;5;66;03m#accessing element using index\u001b[39;00m\n\u001b[0;32m      2\u001b[0m set1\u001b[38;5;241m=\u001b[39m{\u001b[38;5;241m5.6\u001b[39m,\u001b[38;5;124m'\u001b[39m\u001b[38;5;124mg\u001b[39m\u001b[38;5;124m'\u001b[39m,\u001b[38;5;241m8\u001b[39m,\u001b[38;5;241m4\u001b[39m,\u001b[38;5;124m'\u001b[39m\u001b[38;5;124mk\u001b[39m\u001b[38;5;124m'\u001b[39m}\n\u001b[1;32m----> 3\u001b[0m \u001b[43mset1\u001b[49m\u001b[43m[\u001b[49m\u001b[38;5;241;43m4\u001b[39;49m\u001b[43m]\u001b[49m\n",
      "\u001b[1;31mTypeError\u001b[0m: 'set' object is not subscriptable"
     ]
    }
   ],
   "source": [
    "#accessing element of set using indexing\n",
    "set1={5.6,'g',8,4,'k'} # error- indexing is not allowed\n",
    "set1[4]"
   ]
  },
  {
   "cell_type": "code",
   "execution_count": 1,
   "id": "05b401a8",
   "metadata": {},
   "outputs": [
    {
     "name": "stdout",
     "output_type": "stream",
     "text": [
      "5467\n",
      "The list of digits from a given : [5, 4, 6, 7]\n"
     ]
    }
   ],
   "source": [
    "# Q.42\n",
    "# Write a Python program to create a list of each digit is a element in a list from a number. \n",
    "# Example: Input: 5467, Output: [5,4,6,7]\n",
    "\n",
    "s=input()\n",
    "l=[]\n",
    "for i in s:\n",
    "    l.append(int(i))\n",
    "print(\"The list of digits from a given :\",l)\n",
    "\n"
   ]
  },
  {
   "cell_type": "code",
   "execution_count": 3,
   "id": "e5f4a741",
   "metadata": {},
   "outputs": [
    {
     "name": "stdout",
     "output_type": "stream",
     "text": [
      "Enter numbers :5467\n",
      "[5467]\n",
      "number from a given list of digits : 5467\n"
     ]
    }
   ],
   "source": [
    "# Q.NO 43 \n",
    "# Write a Python program to form a number from a given list of digits Example: Input:\n",
    "# [5, 4, 6, 7], Output: 5467\n",
    "n=list(map(int,input(\"Enter numbers :\").split()))\n",
    "print(n)\n",
    "temp=0\n",
    "for i in n:\n",
    "    temp=(temp*10+i)\n",
    "print(\"number from a given list of digits :\",temp) "
   ]
  },
  {
   "cell_type": "code",
   "execution_count": 4,
   "id": "4f6120c6",
   "metadata": {},
   "outputs": [
    {
     "name": "stdout",
     "output_type": "stream",
     "text": [
      "The second smallest number and second largest in a list are : 20 40\n"
     ]
    }
   ],
   "source": [
    "# Q.NO 44 \n",
    "# Write a Python program to find the second smallest number and second largest in a list.\n",
    "l=[10,20,30,40,50]\n",
    "l.sort()\n",
    "print(\"\"\"The second smallest number and second largest in a list are :\"\"\",l[1],l[-2]) "
   ]
  },
  {
   "cell_type": "code",
   "execution_count": 5,
   "id": "c5981380",
   "metadata": {},
   "outputs": [
    {
     "name": "stdout",
     "output_type": "stream",
     "text": [
      "{1: 2, 2: 3, 3: 5, 4: 7, 5: 11, 6: 13, 7: 17, 8: 19, 9: 23, 10: 29, 11: 31, 12: 37, 13: 41, 14: 43, 15: 47, 16: 53, 17: 59, 18: 61, 19: 67, 20: 71, 21: 73, 22: 79, 23: 83, 24: 89, 25: 97, 26: 101, 27: 103, 28: 107, 29: 109, 30: 113, 31: 127, 32: 131, 33: 137, 34: 139, 35: 149, 36: 151, 37: 157, 38: 163, 39: 167, 40: 173, 41: 179, 42: 181, 43: 191, 44: 193, 45: 197, 46: 199, 47: 211, 48: 223, 49: 227, 50: 229, 51: 233, 52: 239, 53: 241, 54: 251, 55: 257, 56: 263, 57: 269, 58: 271, 59: 277, 60: 281, 61: 283, 62: 293, 63: 307, 64: 311, 65: 313, 66: 317, 67: 331, 68: 337, 69: 347, 70: 349, 71: 353, 72: 359, 73: 367, 74: 373, 75: 379, 76: 383, 77: 389, 78: 397, 79: 401, 80: 409, 81: 419, 82: 421, 83: 431, 84: 433, 85: 439, 86: 443, 87: 449, 88: 457, 89: 461, 90: 463, 91: 467, 92: 479, 93: 487, 94: 491, 95: 499, 96: 503, 97: 509, 98: 521, 99: 523, 100: 541}\n"
     ]
    }
   ],
   "source": [
    "# Q.N0 45\n",
    "# Write a python program to create dictionary of index is the key and corresponding\n",
    "# prime number as value up to 100. Output: {1:2, 2:3, 3:5, 4:7, 5:11, 6:13, 7:17, 8:19\n",
    "# ....... and soon }\n",
    "d={}\n",
    "n=0\n",
    "i=2\n",
    "while n<100:\n",
    "    count=0\n",
    "    for j in range(1,i):\n",
    "        if i%j==0:\n",
    "            count+=1\n",
    "    if count==1:\n",
    "        n+=1\n",
    "        d[n]=i\n",
    "    i=i+1\n",
    "print(d) "
   ]
  },
  {
   "cell_type": "code",
   "execution_count": 6,
   "id": "51f5e232",
   "metadata": {},
   "outputs": [
    {
     "name": "stdout",
     "output_type": "stream",
     "text": [
      "The smallest value and the largest value in a dictionary are :20, 3000\n"
     ]
    }
   ],
   "source": [
    "# Q.NO 46\n",
    "# Write a Python program to find the smallest value and largest value in a dictionary.\n",
    "D1={1:200,2:3000,3:100,5:20}\n",
    "l=list(D1.values())\n",
    "l.sort()\n",
    "print(f\"The smallest value and the largest value in a dictionary are :{l[0]}, {l[-1]}\")"
   ]
  },
  {
   "cell_type": "code",
   "execution_count": 8,
   "id": "03c99030",
   "metadata": {},
   "outputs": [
    {
     "name": "stdout",
     "output_type": "stream",
     "text": [
      "n = 5\n",
      "{1: 1, 2: 4, 3: 9, 4: 16, 5: 25}\n"
     ]
    }
   ],
   "source": [
    "# Q.NO 47\n",
    "# Write a Python script to generate and print a dictionary that contains a number (between\n",
    "# 1 and n) in the form (x, x*x).\n",
    "# Sample Dictionary ( n = 5) :\n",
    "# Expected Output : {1: 1, 2: 4, 3: 9, 4: 16, 5: 25}\n",
    "n=int(input(\"n = \"))\n",
    "d={}\n",
    "for i in range(1,n+1):\n",
    "    d[i]=i*i\n",
    "print(d)"
   ]
  },
  {
   "cell_type": "code",
   "execution_count": 9,
   "id": "189b90e9",
   "metadata": {},
   "outputs": [
    {
     "name": "stdout",
     "output_type": "stream",
     "text": [
      "s t r i n h\n",
      "['s', 't', 'r', 'i', 'n', 'h']\n",
      "strinh\n"
     ]
    }
   ],
   "source": [
    "# Q.NO 48\n",
    "# Write a Python program to convert a list of characters into a string. Example: Input:\n",
    "# [‘s’,’t’,’r’,’i’,’n’,’g’], Output: string.\n",
    "strlist=list(input().split())\n",
    "print(strlist)\n",
    "s=\"\".join(strlist)\n",
    "print(s)"
   ]
  },
  {
   "cell_type": "code",
   "execution_count": 10,
   "id": "eaf3f38a",
   "metadata": {},
   "outputs": [
    {
     "data": {
      "text/plain": [
       "{'a': 40, 'b': 40, 'c': 30, 'd': 40}"
      ]
     },
     "execution_count": 10,
     "metadata": {},
     "output_type": "execute_result"
    }
   ],
   "source": [
    "# Q.NO 49\n",
    "# Write a Python program to combine two dictionary adding values for common keys.\n",
    "# d1 = {'a': 10, 'b': 20, 'c':30}\n",
    "# d2 = {'a': 30, 'b': 20, 'd':40}\n",
    "# Sample output: {'a': 40, 'b': 40, 'd': 40, 'c': 30}\n",
    "d1 = {'a': 10, 'b': 20, 'c': 30}\n",
    "d2 = {'a': 30, 'b': 20, 'd': 40}\n",
    "d={}\n",
    "for i,j in zip(d1.keys(),d2.keys()):\n",
    "    if i in d2:\n",
    "        if i not in d:\n",
    "            d[i]=d1[i]+d2[i]\n",
    "    else:\n",
    "        d[i]=d1[i]\n",
    "    if j in d1:\n",
    "        if j not in d:\n",
    "            d[j]=d1[j]+d2[j]\n",
    "    else:\n",
    "        d[j]=d2[j]\n",
    "d"
   ]
  },
  {
   "cell_type": "code",
   "execution_count": 18,
   "id": "b5e6c427",
   "metadata": {},
   "outputs": [
    {
     "name": "stdout",
     "output_type": "stream",
     "text": [
      "123\n",
      "2\n",
      "Count of given element : 0\n"
     ]
    }
   ],
   "source": [
    "# Q.NO 50\n",
    "# Write a program to print index at which a particular value exists. If the value exists a\n",
    "# multiple location in the list, then print all the indices. Also, count the number of times\n",
    "# the value is repeated in the list.\n",
    "in_list=list(map(int,input().split()))\n",
    "ele=int(input())\n",
    "count=0\n",
    "for i in range (len(in_list)):\n",
    "    if in_list[i]==ele:\n",
    "        count+=1\n",
    "        print(\"Given Value is present at index :\")\n",
    "        print(i)\n",
    "print(\"Count of given element :\",count)"
   ]
  },
  {
   "cell_type": "code",
   "execution_count": 17,
   "id": "1ace4ac8",
   "metadata": {},
   "outputs": [
    {
     "name": "stdout",
     "output_type": "stream",
     "text": [
      "1454\n",
      "[1454]\n",
      "unique list : [1454]\n"
     ]
    }
   ],
   "source": [
    "# Q.NO 51\n",
    "# Write a program to remove all duplicate elements in a list.\n",
    "l=list(map(int,input().split()))\n",
    "print(l)\n",
    "u=[]\n",
    "for i in l:\n",
    "    if i not in u:\n",
    "        u.append(i)\n",
    "print(\"unique list :\",u)"
   ]
  },
  {
   "cell_type": "code",
   "execution_count": 15,
   "id": "2a798190",
   "metadata": {},
   "outputs": [
    {
     "name": "stdout",
     "output_type": "stream",
     "text": [
      "[2, 4, 6, 8, 10]\n"
     ]
    }
   ],
   "source": [
    "# Q.NO 52\n",
    "# Write a program to create a list of numbers in the range 1 to 10. Then delete all the odd\n",
    "# numbers from the list and print the final list.\n",
    "l=[]\n",
    "for i in range(1,11):\n",
    "    l.append(i)\n",
    "for i in l:\n",
    "    if i%2!=0:\n",
    "        i=l.remove(i)\n",
    "print(l)"
   ]
  },
  {
   "cell_type": "markdown",
   "id": "85cd4416",
   "metadata": {},
   "source": [
    "#### File Handling\n",
    "- open\n",
    "- do operations in that file\n",
    "- close\n",
    "#### Methods used\n",
    "- open() - have to close using close() method\n",
    "- with open() -  no need to use close method, \n",
    "- read() - to read the data in a file\n",
    "- write() - write the data in a file\n",
    "- close() - to close the opened file\n",
    "- append() - to append the data in already existing file\n",
    "- readlines() - \n",
    "#### Modes\n",
    "- read mode - 'r'\n",
    "- write mode - 'w'\n",
    "- append mode - 'a'"
   ]
  },
  {
   "cell_type": "code",
   "execution_count": 10,
   "id": "3d4261f4",
   "metadata": {},
   "outputs": [
    {
     "name": "stdout",
     "output_type": "stream",
     "text": [
      "Hello, this is the first text file in python lab\n",
      "So, I need to fill in up some data in the text file\n",
      "Therefore I am typing this shit all over here dot\n",
      "\n",
      "\n",
      "\n"
     ]
    }
   ],
   "source": [
    "f = open(\"Text file 10-11-22\") # f is a variable to store the opening of file\n",
    "fh=f.read() # fh to store data in file\n",
    "print(fh)\n",
    "f.close()"
   ]
  },
  {
   "cell_type": "code",
   "execution_count": 21,
   "id": "1081493f",
   "metadata": {},
   "outputs": [
    {
     "name": "stdout",
     "output_type": "stream",
     "text": [
      "Now I am using write methodI am using the append now\n"
     ]
    }
   ],
   "source": [
    "with open(\"Text file 10-11-22\",\"r\") as f: # if we used with open, we also need to mention the mode\n",
    "    fdata = f.read(500) # we passed how many digits it needs to read\n",
    "    print(fdata)"
   ]
  },
  {
   "cell_type": "code",
   "execution_count": 18,
   "id": "399fa3f3",
   "metadata": {},
   "outputs": [
    {
     "name": "stdout",
     "output_type": "stream",
     "text": [
      "27\n"
     ]
    }
   ],
   "source": [
    "with open(\"Text file 10-11-22\",\"w\") as f: # it over writes the data in the file.\n",
    "    fdata = f.write(\"Now I am using write method\")\n",
    "    print(fdata)"
   ]
  },
  {
   "cell_type": "code",
   "execution_count": 22,
   "id": "baa5a125",
   "metadata": {},
   "outputs": [
    {
     "name": "stdout",
     "output_type": "stream",
     "text": [
      "26\n"
     ]
    }
   ],
   "source": [
    "with open(\"Text file 10-11-22\",\"a\") as f:\n",
    "    fdata = f.write(\"\\nI am using the append now\")\n",
    "    print(fdata)"
   ]
  },
  {
   "cell_type": "code",
   "execution_count": 27,
   "id": "5a75c630",
   "metadata": {},
   "outputs": [
    {
     "name": "stdout",
     "output_type": "stream",
     "text": [
      "Now I am using write method\n",
      "\n",
      "I am using the append now\n"
     ]
    }
   ],
   "source": [
    "with open(\"Text file 10-11-22\",\"r\") as r: # it reads the data, line by line \n",
    "    data= r.readlines()\n",
    "    for i in data:\n",
    "        print(i)"
   ]
  },
  {
   "cell_type": "code",
   "execution_count": 37,
   "id": "010a2632",
   "metadata": {},
   "outputs": [
    {
     "name": "stdout",
     "output_type": "stream",
     "text": [
      "55\n"
     ]
    }
   ],
   "source": [
    "# 37. Write a Python program to copy the content of one file to other file.\n",
    "f= open(\"Q.NO. 37\")\n",
    "fr= f.read()\n",
    "with open(\"Q.NO 37 (2)\",\"w\") as f:\n",
    "    fdata = f.write(fr)\n",
    "print(fdata)\n",
    "f.close()\n",
    "\n"
   ]
  },
  {
   "cell_type": "code",
   "execution_count": 36,
   "id": "765239b1",
   "metadata": {},
   "outputs": [
    {
     "name": "stdout",
     "output_type": "stream",
     "text": [
      "number of words:\n",
      "11\n"
     ]
    }
   ],
   "source": [
    "# 38. Write a Python program to count the number of words in the above txt file.\n",
    "count=0\n",
    "with open(\"Q.NO 37 (2)\",\"r\") as f:\n",
    "    for line in f:\n",
    "        words = line.split()\n",
    "        count+=len(words)\n",
    "    print(\"number of words:\")\n",
    "    print(count)\n",
    "    "
   ]
  },
  {
   "cell_type": "code",
   "execution_count": 38,
   "id": "c0c6901e",
   "metadata": {},
   "outputs": [
    {
     "name": "stdout",
     "output_type": "stream",
     "text": [
      "44\n"
     ]
    }
   ],
   "source": [
    "# 39. Write a Python program to number of characters without space in the above txt file.\n",
    "count=0\n",
    "with open(\"Q.NO 37 (2)\",\"r\") as f:\n",
    "    fdata = f.read()\n",
    "    count=0\n",
    "    for i in fdata:\n",
    "        if not i.isspace():\n",
    "            count+=1\n",
    "    print(count)"
   ]
  },
  {
   "cell_type": "code",
   "execution_count": 44,
   "id": "89e91f02",
   "metadata": {},
   "outputs": [
    {
     "name": "stdout",
     "output_type": "stream",
     "text": [
      "7 12\n"
     ]
    }
   ],
   "source": [
    "# Q.NO 40\n",
    "# Write a program that reads data from a file and print the no of vowels and constants in the file.\n",
    "with open(\"Q.NO 40\",\"r\") as f:\n",
    "    fdata=f.read()\n",
    "    count_v=0\n",
    "    count_c=0\n",
    "    vow=\"AEIOUaeiou\"\n",
    "    for i in fdata:\n",
    "        if i.isalpha():\n",
    "            if i in vow:\n",
    "                count_v+=1\n",
    "            else:\n",
    "                count_c+=1\n",
    "    print(count_v,count_c)"
   ]
  },
  {
   "cell_type": "code",
   "execution_count": 6,
   "id": "32584e37",
   "metadata": {},
   "outputs": [
    {
     "name": "stdout",
     "output_type": "stream",
     "text": [
      "Q.NO 41\n",
      "i\n",
      "3\n"
     ]
    }
   ],
   "source": [
    "# 41. Write a python program that accept file Name as input from the user. Open the file and count \n",
    "# the number of times a character appears in the file.\n",
    "fileName=input()\n",
    "letter=input()\n",
    "file = open(fileName, 'r')\n",
    "text = file.read()\n",
    "print(text.count(letter))"
   ]
  },
  {
   "cell_type": "markdown",
   "id": "e4780687",
   "metadata": {},
   "source": [
    "### Object Oriented Programming\n",
    "- Resuable data\n",
    "- Bottom up approach\n",
    "- access modifiers\n",
    "- mores secure\n",
    "- Object can move freely within member function\n",
    "- supports inheritance\n",
    "\n",
    "#### Classes and Objects\n",
    "A class is a collection of objects or you say it is a blueprint of objs defining the common attributes and behaviour. Class definition:  class class1( ): \"class- keyword class1- name of the class\"\n",
    "\n",
    "\n",
    "#### Creating an obj and class in python -\n",
    "\n"
   ]
  },
  {
   "cell_type": "code",
   "execution_count": 9,
   "id": "d0eabf7a",
   "metadata": {},
   "outputs": [
    {
     "name": "stdout",
     "output_type": "stream",
     "text": [
      "{'name': 'harshith', 'age': 22, 'salary': 1234, 'id': 1000}\n"
     ]
    }
   ],
   "source": [
    "class employee():\n",
    "    def __init__(self,name,age,id,salary):\n",
    "        self.name =  name\n",
    "        self.age = age\n",
    "        self.salary = salary\n",
    "        self.id = id\n",
    "emp1 = employee(\"harshith\",22,1000,1234)\n",
    "emp2 = employee(\"arjun\",23,2000,2234)\n",
    "print(emp1.__dict__)"
   ]
  },
  {
   "cell_type": "markdown",
   "id": "e2b0c998",
   "metadata": {},
   "source": [
    "### Inheritance \n",
    "- Transfering of characteristics from parent to child class without any modificaton.\n",
    "- The new class is called the derived/child class.\n",
    "- single(a->b),multilevel(a->b: b->c), hybrid,herirarchical(a->(b and c)), multiple ((a and b)->c)\n",
    "\n",
    "### Single inheritance\n",
    "- derive charecteristsics from a single parent class\n",
    "- Example :\n",
    "\n",
    "\n"
   ]
  },
  {
   "cell_type": "code",
   "execution_count": 11,
   "id": "78384564",
   "metadata": {},
   "outputs": [
    {
     "name": "stdout",
     "output_type": "stream",
     "text": [
      "22\n"
     ]
    }
   ],
   "source": [
    "class employee1():\n",
    "    def __init__(self,name,age,salary):\n",
    "        self.name =  name\n",
    "        self.age  = age\n",
    "        self.salary = salary\n",
    "class childemployee(employee1):\n",
    "    def __init__(self,name,age,salary,id):\n",
    "        self.name = name\n",
    "        self.age = age\n",
    "        self.salary = salary\n",
    "        self.id = id\n",
    "emp1 = employee1('harshith',22,1000)\n",
    "print(emp1.age)"
   ]
  },
  {
   "cell_type": "code",
   "execution_count": 13,
   "id": "7c566273",
   "metadata": {},
   "outputs": [
    {
     "name": "stdout",
     "output_type": "stream",
     "text": [
      "22\n"
     ]
    }
   ],
   "source": [
    "#The same example, just created an obj with child class\n",
    "\n",
    "class employee1():\n",
    "    def __init__(self,name,age,salary):\n",
    "        self.name =  name\n",
    "        self.age  = age\n",
    "        self.salary = salary\n",
    "class childemployee(employee1):\n",
    "    pass\n",
    "emp1 = childemployee('harshith',22,1000)\n",
    "print(emp1.age)\n"
   ]
  },
  {
   "cell_type": "code",
   "execution_count": 14,
   "id": "e3295672",
   "metadata": {},
   "outputs": [
    {
     "name": "stdout",
     "output_type": "stream",
     "text": [
      "🤡\n"
     ]
    }
   ],
   "source": [
    "print(\"\\U0001f921\")"
   ]
  },
  {
   "cell_type": "code",
   "execution_count": 15,
   "id": "3fa8e61d",
   "metadata": {},
   "outputs": [
    {
     "name": "stdout",
     "output_type": "stream",
     "text": [
      "22\n"
     ]
    }
   ],
   "source": [
    "class employee1():\n",
    "    def __init__(self,name,age,salary):\n",
    "        self.name =  name\n",
    "        self.age  = age\n",
    "        self.salary = salary\n",
    "class childemployee1(employee1):\n",
    "    pass\n",
    "class childemployee2(childemployee1):\n",
    "    pass\n",
    "emp1 = childemployee2('harshith',22,1000)\n",
    "print(emp1.age)\n",
    "\n"
   ]
  },
  {
   "cell_type": "code",
   "execution_count": null,
   "id": "a42705a0",
   "metadata": {},
   "outputs": [],
   "source": [
    "### Hierarchical \n",
    "#### enables more than one derived class to inherite properities from a parent classs\n",
    "- example:"
   ]
  },
  {
   "cell_type": "code",
   "execution_count": 16,
   "id": "24539ecd",
   "metadata": {},
   "outputs": [
    {
     "name": "stdout",
     "output_type": "stream",
     "text": [
      "iam from class a\n",
      "iam from class b\n"
     ]
    }
   ],
   "source": [
    "class A:\n",
    "    def classA():\n",
    "        print(\"iam from class a\")\n",
    "class B(A):\n",
    "    def classB():\n",
    "        print(\"iam from class b\")\n",
    "class C(A):\n",
    "    def classC():\n",
    "        print(\"iam from class c\")\n",
    "        \n",
    "obj=C\n",
    "obj1=B\n",
    "obj.classA()\n",
    "obj1.classB()\n"
   ]
  },
  {
   "cell_type": "code",
   "execution_count": 17,
   "id": "a319f833",
   "metadata": {},
   "outputs": [
    {
     "name": "stdout",
     "output_type": "stream",
     "text": [
      "I am from class A\n",
      "I am from class B\n",
      "I am from class C\n",
      "I am from class D\n",
      "I am from class E\n"
     ]
    }
   ],
   "source": [
    "## Hybrid Inheritance\n",
    "\n",
    "class A:\n",
    "    def classA():\n",
    "        print(\"I am from class A\")\n",
    "class B:\n",
    "    def classB():\n",
    "        print(\"I am from class B\")\n",
    "class C(A,B):\n",
    "    def classC():\n",
    "        print(\"I am from class C\")\n",
    "class D(C):\n",
    "    def classD():\n",
    "        print(\"I am from class D\")\n",
    "class E(D):\n",
    "    def classE():\n",
    "        print(\"I am from class E\")\n",
    "obj=E\n",
    "obj.classA()\n",
    "obj.classB()\n",
    "obj.classC()\n",
    "obj.classD()\n",
    "obj.classE()"
   ]
  },
  {
   "cell_type": "markdown",
   "id": "bd326252",
   "metadata": {},
   "source": [
    "## Polymorphism - 2 types\n",
    "#### 1) Complie time :\n",
    "- compile time - static polymorphism which resolves during the compilation time \n",
    "- method overloading\n",
    "- example:"
   ]
  },
  {
   "cell_type": "code",
   "execution_count": 1,
   "id": "c6437466",
   "metadata": {},
   "outputs": [
    {
     "name": "stdout",
     "output_type": "stream",
     "text": [
      "Harshith is his name\n",
      "3000 is his salary\n",
      "22 is his age\n",
      "Rahul is his name\n",
      "4000 is his salary\n",
      "23 is his age\n"
     ]
    }
   ],
   "source": [
    "class employee1():\n",
    "    def name(self):\n",
    "        print(\"Harshith is his name\")\n",
    "    def salary(self):\n",
    "        print(\"3000 is his salary\")\n",
    "    def age(self):\n",
    "        print(\"22 is his age\")\n",
    "class employee2():\n",
    "    def name(self):\n",
    "        print(\"Rahul is his name\")\n",
    "    def salary(self):\n",
    "        print(\"4000 is his salary\")\n",
    "    def age(self):\n",
    "        print(\"23 is his age\")\n",
    "        \n",
    "def func(obj):\n",
    "    obj.name()\n",
    "    obj.salary()\n",
    "    obj.age()\n",
    "obj_emp1=employee1()\n",
    "obj_emp2=employee2()\n",
    "func(obj_emp1)\n",
    "func(obj_emp2)"
   ]
  },
  {
   "cell_type": "markdown",
   "id": "44deae87",
   "metadata": {},
   "source": [
    "#### 2) Runtime Polymorphism\n",
    "- dynamic polymorphism where it gets resolved into the runtime.\n",
    "- method overriding\n",
    "- example: "
   ]
  },
  {
   "cell_type": "code",
   "execution_count": 2,
   "id": "6ef43e13",
   "metadata": {},
   "outputs": [
    {
     "name": "stdout",
     "output_type": "stream",
     "text": [
      "David\n"
     ]
    }
   ],
   "source": [
    "# over riding of variables\n",
    "class parent:\n",
    "    name = 'Anna'\n",
    "class child(parent):\n",
    "    name = 'David'\n",
    "    \n",
    "c=child()\n",
    "print(c.name)"
   ]
  },
  {
   "cell_type": "code",
   "execution_count": 4,
   "id": "5cfe834a",
   "metadata": {},
   "outputs": [
    {
     "name": "stdout",
     "output_type": "stream",
     "text": [
      "Photographer\n"
     ]
    }
   ],
   "source": [
    "# over riding of methods\n",
    "class parent:\n",
    "    def career(self):\n",
    "        return \"Engineer\"\n",
    "class child(parent):\n",
    "    def career(self):\n",
    "        return \"Photographer\"\n",
    "    \n",
    "c=child()\n",
    "print(c.career())\n"
   ]
  },
  {
   "cell_type": "code",
   "execution_count": 3,
   "id": "dc333834",
   "metadata": {},
   "outputs": [
    {
     "name": "stdout",
     "output_type": "stream",
     "text": [
      "Anna\n"
     ]
    }
   ],
   "source": [
    "# without riding\n",
    "class parent:\n",
    "    name = 'Anna'\n",
    "class child(parent):\n",
    "    pass\n",
    "    \n",
    "c=child()\n",
    "print(c.name)"
   ]
  },
  {
   "cell_type": "markdown",
   "id": "8b1d449b",
   "metadata": {},
   "source": [
    "## Encapsulation\n",
    "- process of binding the data (persons cannot access the data), \n",
    "- for binding the data we need to use private modifier, we represent it with _\n",
    "- we can access private data with in the class only"
   ]
  },
  {
   "cell_type": "code",
   "execution_count": 11,
   "id": "3e3bafd0",
   "metadata": {},
   "outputs": [
    {
     "name": "stdout",
     "output_type": "stream",
     "text": [
      "10\n"
     ]
    }
   ],
   "source": [
    "#private attribute - double underscore only\n",
    "class A:\n",
    "    __a=10\n",
    "    def disp(self):\n",
    "        print(self.__a)\n",
    "obj =A()\n",
    "obj.disp()"
   ]
  },
  {
   "cell_type": "code",
   "execution_count": 12,
   "id": "39147f55",
   "metadata": {},
   "outputs": [
    {
     "ename": "AttributeError",
     "evalue": "'A' object has no attribute '__a'",
     "output_type": "error",
     "traceback": [
      "\u001b[1;31m---------------------------------------------------------------------------\u001b[0m",
      "\u001b[1;31mAttributeError\u001b[0m                            Traceback (most recent call last)",
      "Input \u001b[1;32mIn [12]\u001b[0m, in \u001b[0;36m<cell line: 1>\u001b[1;34m()\u001b[0m\n\u001b[1;32m----> 1\u001b[0m \u001b[43mobj\u001b[49m\u001b[38;5;241;43m.\u001b[39;49m\u001b[43m__a\u001b[49m\n",
      "\u001b[1;31mAttributeError\u001b[0m: 'A' object has no attribute '__a'"
     ]
    }
   ],
   "source": [
    "obj.__a # error why? becuase its a private attribute we cannot access it outside"
   ]
  },
  {
   "cell_type": "code",
   "execution_count": 14,
   "id": "9636a45f",
   "metadata": {},
   "outputs": [
    {
     "name": "stdout",
     "output_type": "stream",
     "text": [
      "This is calling pribvate method\n",
      "this is a private method\n"
     ]
    }
   ],
   "source": [
    "class Myclass:\n",
    "    def __disp(self):\n",
    "        print('this is a private method')\n",
    "    def disp2(self):\n",
    "        print('This is calling pribvate method')\n",
    "        self.__disp()\n",
    "        \n",
    "obj = Myclass()\n",
    "obj.disp2()"
   ]
  },
  {
   "cell_type": "code",
   "execution_count": 16,
   "id": "50c64eca",
   "metadata": {},
   "outputs": [
    {
     "name": "stdout",
     "output_type": "stream",
     "text": [
      "111\n"
     ]
    }
   ],
   "source": [
    "class Employee():\n",
    "    __id =111\n",
    "\n",
    "    def set_eid(self,eid):\n",
    "        self.__id = eid\n",
    "    def get_eid(self):\n",
    "        return self.__id\n",
    "    \n",
    "e = Employee()\n",
    "print(e.get_eid())\n",
    "# print(e.__id) - error"
   ]
  },
  {
   "cell_type": "code",
   "execution_count": 22,
   "id": "190a1d3e",
   "metadata": {},
   "outputs": [],
   "source": [
    "#protected variable\n",
    "class student:\n",
    "    __r=15\n",
    "    def __init__(self,name):\n",
    "        self._name=name\n",
    "    def name(self):\n",
    "        return self._name\n",
    "    def setname(self,newname):\n",
    "        self._name = newname"
   ]
  },
  {
   "cell_type": "code",
   "execution_count": 23,
   "id": "66275576",
   "metadata": {},
   "outputs": [],
   "source": [
    "obj= student(\"honey\")"
   ]
  },
  {
   "cell_type": "markdown",
   "id": "daf2d253",
   "metadata": {},
   "source": [
    "## Abstraction\n",
    "- highilighting the services and hiding the implementation in child class\n",
    "- just shows declaration\n",
    "- special kind of class for which we cannot create a object"
   ]
  },
  {
   "cell_type": "code",
   "execution_count": 28,
   "id": "9413d498",
   "metadata": {},
   "outputs": [
    {
     "name": "stdout",
     "output_type": "stream",
     "text": [
      "Good\n"
     ]
    }
   ],
   "source": [
    "from abc import ABC, abstractmethod\n",
    "class A (ABC):\n",
    "    @abstractmethod # to specify this method is abstract\n",
    "    def disp(self): #only declaration\n",
    "        pass\n",
    "class B(A):\n",
    "    def disp(self):\n",
    "        print(\"Good\")\n",
    "b= B()\n",
    "b.disp()"
   ]
  },
  {
   "cell_type": "code",
   "execution_count": null,
   "id": "a6ff1cf9",
   "metadata": {},
   "outputs": [],
   "source": []
  },
  {
   "cell_type": "code",
   "execution_count": null,
   "id": "19d42bb0",
   "metadata": {},
   "outputs": [],
   "source": []
  },
  {
   "cell_type": "code",
   "execution_count": null,
   "id": "2d6945de",
   "metadata": {},
   "outputs": [],
   "source": []
  },
  {
   "cell_type": "code",
   "execution_count": null,
   "id": "8999b0a7",
   "metadata": {},
   "outputs": [],
   "source": []
  },
  {
   "cell_type": "code",
   "execution_count": null,
   "id": "edd84844",
   "metadata": {},
   "outputs": [],
   "source": []
  },
  {
   "cell_type": "code",
   "execution_count": null,
   "id": "71acfcd8",
   "metadata": {},
   "outputs": [],
   "source": []
  },
  {
   "cell_type": "code",
   "execution_count": null,
   "id": "38303ad9",
   "metadata": {},
   "outputs": [],
   "source": []
  },
  {
   "cell_type": "code",
   "execution_count": null,
   "id": "5a0ac95c",
   "metadata": {},
   "outputs": [],
   "source": []
  },
  {
   "cell_type": "code",
   "execution_count": null,
   "id": "bdc1870e",
   "metadata": {},
   "outputs": [],
   "source": []
  },
  {
   "cell_type": "code",
   "execution_count": null,
   "id": "119bf16a",
   "metadata": {},
   "outputs": [],
   "source": []
  },
  {
   "cell_type": "code",
   "execution_count": null,
   "id": "a45810db",
   "metadata": {},
   "outputs": [],
   "source": []
  },
  {
   "cell_type": "code",
   "execution_count": null,
   "id": "ad738226",
   "metadata": {},
   "outputs": [],
   "source": []
  },
  {
   "cell_type": "code",
   "execution_count": null,
   "id": "0136cdf2",
   "metadata": {},
   "outputs": [],
   "source": []
  },
  {
   "cell_type": "code",
   "execution_count": null,
   "id": "5f4520aa",
   "metadata": {},
   "outputs": [],
   "source": []
  },
  {
   "cell_type": "code",
   "execution_count": null,
   "id": "e4abc651",
   "metadata": {},
   "outputs": [],
   "source": []
  },
  {
   "cell_type": "code",
   "execution_count": null,
   "id": "e613a1cd",
   "metadata": {},
   "outputs": [],
   "source": []
  },
  {
   "cell_type": "code",
   "execution_count": null,
   "id": "cf9b1181",
   "metadata": {},
   "outputs": [],
   "source": []
  },
  {
   "cell_type": "code",
   "execution_count": null,
   "id": "8b81c816",
   "metadata": {},
   "outputs": [],
   "source": []
  }
 ],
 "metadata": {
  "kernelspec": {
   "display_name": "Python 3 (ipykernel)",
   "language": "python",
   "name": "python3"
  },
  "language_info": {
   "codemirror_mode": {
    "name": "ipython",
    "version": 3
   },
   "file_extension": ".py",
   "mimetype": "text/x-python",
   "name": "python",
   "nbconvert_exporter": "python",
   "pygments_lexer": "ipython3",
   "version": "3.9.12"
  }
 },
 "nbformat": 4,
 "nbformat_minor": 5
}
